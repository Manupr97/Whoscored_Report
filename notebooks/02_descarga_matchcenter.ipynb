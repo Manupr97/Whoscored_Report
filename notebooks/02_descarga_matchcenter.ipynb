{
 "cells": [
  {
   "cell_type": "code",
   "execution_count": 1,
   "id": "8486b8a5",
   "metadata": {},
   "outputs": [
    {
     "name": "stdout",
     "output_type": "stream",
     "text": [
      "[paths.py] PROJECT_ROOT: c:\\Users\\manue\\OneDrive\\Escritorio\\Proyecto WhoScored\n",
      "[paths.py] BASE_DATA_DIR: C:\\Users\\manue\\OneDrive\\Escritorio\\Proyecto WhoScored\\data\n",
      "Módulo cargado desde: C:\\Users\\manue\\OneDrive\\Escritorio\\Proyecto WhoScored\\src\\whoscored_viz\\whoscored_matchcenter.py\n"
     ]
    }
   ],
   "source": [
    "import sys\n",
    "from pathlib import Path\n",
    "\n",
    "SRC_DIR = Path(r\"C:\\Users\\manue\\OneDrive\\Escritorio\\Proyecto WhoScored\\src\")\n",
    "if str(SRC_DIR) not in sys.path:\n",
    "    sys.path.insert(0, str(SRC_DIR))\n",
    "\n",
    "# Import correcto: el módulo está dentro del paquete whoscored_viz\n",
    "from whoscored_viz import whoscored_matchcenter as wsm\n",
    "\n",
    "print(\"Módulo cargado desde:\", wsm.__file__)"
   ]
  },
  {
   "cell_type": "code",
   "execution_count": 2,
   "id": "6f193b01",
   "metadata": {},
   "outputs": [],
   "source": [
    "from pathlib import Path\n",
    "import re\n",
    "import pandas as pd\n",
    "\n",
    "# CSV de entrada que te pasa el notebook anterior\n",
    "CSV_PATH = Path(r\"C:\\Users\\manue\\OneDrive\\Escritorio\\Proyecto WhoScored\\data\\raw\\fixtures\\DataFixtures\\laliga\\2025-2026\\finished_matches.csv\")\n",
    "\n",
    "# OJO con esta ruta: el módulo escribe en out_root / \"MatchCenter\" / ...\n",
    "# Para cuadrar con tu estructura existente (...\\matchcenter\\MatchCenter\\...), pásale out_root = ...\\matchcenter\n",
    "OUT_ROOT = Path(r\"C:\\Users\\manue\\OneDrive\\Escritorio\\Proyecto WhoScored\\data\\raw\\matchcenter\")\n",
    "\n",
    "# Carpeta donde YA tienes los partidos (la que termina en \\MatchCenter)\n",
    "EXISTING_MATCHCENTER_DIR = OUT_ROOT / \"MatchCenter\""
   ]
  },
  {
   "cell_type": "code",
   "execution_count": 3,
   "id": "45ded215",
   "metadata": {},
   "outputs": [],
   "source": [
    "ID_FROM_URL = [\n",
    "    re.compile(r\"/(\\d{5,})[/\\-]?$\"),          # .../1913916  o .../1913916/\n",
    "    re.compile(r\"[_-](\\d{5,})$\"),             # sufijo ..._1913916\n",
    "    re.compile(r\"[?&](?:matchId|gameId)=(\\d+)\")  # ?matchId=1913916\n",
    "]\n",
    "\n",
    "def extract_match_id_any(s: str) -> str | None:\n",
    "    s = str(s or \"\").strip()\n",
    "    if not s:\n",
    "        return None\n",
    "    if s.isdigit():\n",
    "        return s\n",
    "    for rx in ID_FROM_URL:\n",
    "        m = rx.search(s)\n",
    "        if m:\n",
    "            return m.group(1)\n",
    "    return None\n",
    "\n",
    "def get_extracted_match_ids(root_matchcenter_dir: Path) -> set[str]:\n",
    "    \"\"\"\n",
    "    Recorre recursivamente ...\\MatchCenter\\...\\<carpeta del partido> y recoge IDs\n",
    "    asumiendo que el nombre termina en _<ID>.\n",
    "    \"\"\"\n",
    "    ids = set()\n",
    "    for p in root_matchcenter_dir.rglob(\"*\"):\n",
    "        if p.is_dir():\n",
    "            m = re.search(r\"_(\\d+)$\", p.name)\n",
    "            if m:\n",
    "                ids.add(m.group(1))\n",
    "    return ids"
   ]
  },
  {
   "cell_type": "code",
   "execution_count": 4,
   "id": "011f7ac4",
   "metadata": {},
   "outputs": [
    {
     "name": "stdout",
     "output_type": "stream",
     "text": [
      "Total CSV: 41  |  Ya en disco: 31  |  Pendientes: 10\n"
     ]
    }
   ],
   "source": [
    "df_in = pd.read_csv(CSV_PATH)\n",
    "\n",
    "# Intenta columna match_id directa; si no, extrae desde las URLs habituales\n",
    "if \"match_id\" in df_in.columns:\n",
    "    ids_input = df_in[\"match_id\"].astype(str)\n",
    "else:\n",
    "    url_col = None\n",
    "    for c in (\"match_centre_url\", \"match_center_url\", \"match__centre_url\", \"match_url\", \"url\"):\n",
    "        if c in df_in.columns:\n",
    "            url_col = c; break\n",
    "    if not url_col:\n",
    "        raise ValueError(\"El CSV debe incluir 'match_id' o alguna columna de URL (match_centre_url/match_center_url).\")\n",
    "    ids_input = df_in[url_col].map(extract_match_id_any)\n",
    "\n",
    "# Limpia nulos\n",
    "df_in[\"match_id_norm\"] = ids_input\n",
    "df_in = df_in[df_in[\"match_id_norm\"].notna()].copy()\n",
    "df_in[\"match_id_norm\"] = df_in[\"match_id_norm\"].astype(str)\n",
    "\n",
    "# IDs ya presentes en disco\n",
    "extracted_ids = get_extracted_match_ids(EXISTING_MATCHCENTER_DIR)\n",
    "\n",
    "# Qué falta por descargar\n",
    "df_pending = df_in[~df_in[\"match_id_norm\"].isin(extracted_ids)].copy()\n",
    "\n",
    "print(f\"Total CSV: {len(df_in)}  |  Ya en disco: {len(extracted_ids)}  |  Pendientes: {len(df_pending)}\")\n",
    "if df_pending.empty:\n",
    "    print(\"Nada que hacer. Todo descargado.\")"
   ]
  },
  {
   "cell_type": "code",
   "execution_count": 6,
   "id": "b858d0df",
   "metadata": {},
   "outputs": [
    {
     "name": "stdout",
     "output_type": "stream",
     "text": [
      "✅ OK [1/10] match_id=1913929 → C:\\Users\\manue\\OneDrive\\Escritorio\\Proyecto WhoScored\\data\\raw\\matchcenter\\MatchCenter\\Competition\\Season\\20250912_Sevilla_vs_Elche_1913929\n",
      "✅ OK [2/10] match_id=1913925 → C:\\Users\\manue\\OneDrive\\Escritorio\\Proyecto WhoScored\\data\\raw\\matchcenter\\MatchCenter\\Competition\\Season\\20250913_Getafe_vs_Real_Oviedo_1913925\n",
      "✅ OK [3/10] match_id=1913930 → C:\\Users\\manue\\OneDrive\\Escritorio\\Proyecto WhoScored\\data\\raw\\matchcenter\\MatchCenter\\Competition\\Season\\20250913_Real_Sociedad_vs_Real_Madrid_1913930\n",
      "✅ OK [4/10] match_id=1913927 → C:\\Users\\manue\\OneDrive\\Escritorio\\Proyecto WhoScored\\data\\raw\\matchcenter\\MatchCenter\\Competition\\Season\\20250913_Athletic_Club_vs_Deportivo_Alaves_1913927\n",
      "✅ OK [5/10] match_id=1913921 → C:\\Users\\manue\\OneDrive\\Escritorio\\Proyecto WhoScored\\data\\raw\\matchcenter\\MatchCenter\\Competition\\Season\\20250913_Atletico_vs_Villarreal_1913921\n",
      "✅ OK [6/10] match_id=1913923 → C:\\Users\\manue\\OneDrive\\Escritorio\\Proyecto WhoScored\\data\\raw\\matchcenter\\MatchCenter\\Competition\\Season\\20250914_Celta_Vigo_vs_Girona_1913923\n",
      "✅ OK [7/10] match_id=1913928 → C:\\Users\\manue\\OneDrive\\Escritorio\\Proyecto WhoScored\\data\\raw\\matchcenter\\MatchCenter\\Competition\\Season\\20250914_Levante_vs_Real_Betis_1913928\n",
      "✅ OK [8/10] match_id=1913926 → C:\\Users\\manue\\OneDrive\\Escritorio\\Proyecto WhoScored\\data\\raw\\matchcenter\\MatchCenter\\Competition\\Season\\20250914_Osasuna_vs_Rayo_Vallecano_1913926\n",
      "… cooldown 20s\n",
      "✅ OK [9/10] match_id=1913922 → C:\\Users\\manue\\OneDrive\\Escritorio\\Proyecto WhoScored\\data\\raw\\matchcenter\\MatchCenter\\Competition\\Season\\20250914_Barcelona_vs_Valencia_1913922\n",
      "✅ OK [10/10] match_id=1913924 → C:\\Users\\manue\\OneDrive\\Escritorio\\Proyecto WhoScored\\data\\raw\\matchcenter\\MatchCenter\\Competition\\Season\\20250915_Espanyol_vs_Mallorca_1913924\n"
     ]
    }
   ],
   "source": [
    "from tempfile import NamedTemporaryFile\n",
    "from pathlib import Path\n",
    "from whoscored_viz import whoscored_matchcenter as wsm # tu módulo\n",
    "from selenium import webdriver\n",
    "\n",
    "if not df_pending.empty:\n",
    "    # Crear CSV temporal con mismas columnas que el original pero solo filas pendientes\n",
    "    tmp = NamedTemporaryFile(prefix=\"pending_\", suffix=\".csv\", delete=False)\n",
    "    tmp_path = Path(tmp.name)\n",
    "    tmp.close()\n",
    "    df_pending.to_csv(tmp_path, index=False, encoding=\"utf-8-sig\")\n",
    "\n",
    "    # Reusar una sola sesión de Selenium (más estable y rápido)\n",
    "    driver = wsm._build_driver(headless=False)  # sí, es \"privado\", pero es tu módulo. Funciona. :contentReference[oaicite:0]{index=0}\n",
    "    try:\n",
    "        wsm.process_from_csv(\n",
    "            csv_file=tmp_path,\n",
    "            out_root=OUT_ROOT,        # importante: OUT_ROOT sin el último \"MatchCenter\"\n",
    "            driver=driver,            # misma sesión para todas\n",
    "            pause_range=(1.2, 2.8),\n",
    "            cooldown_every=8,\n",
    "            cooldown_secs=20,\n",
    "            limit=None,               # procesa todas las pendientes\n",
    "        )  # internamente usa process_one_match → save_all_tables con la estructura habitual. :contentReference[oaicite:1]{index=1}\n",
    "    finally:\n",
    "        driver.quit()\n",
    "        tmp_path.unlink(missing_ok=True)"
   ]
  }
 ],
 "metadata": {
  "kernelspec": {
   "display_name": ".venv",
   "language": "python",
   "name": "python3"
  },
  "language_info": {
   "codemirror_mode": {
    "name": "ipython",
    "version": 3
   },
   "file_extension": ".py",
   "mimetype": "text/x-python",
   "name": "python",
   "nbconvert_exporter": "python",
   "pygments_lexer": "ipython3",
   "version": "3.10.11"
  }
 },
 "nbformat": 4,
 "nbformat_minor": 5
}
