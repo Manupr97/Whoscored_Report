{
 "cells": [
  {
   "cell_type": "code",
   "execution_count": 18,
   "id": "f9105500",
   "metadata": {},
   "outputs": [
    {
     "name": "stdout",
     "output_type": "stream",
     "text": [
      "[OK] sys.path += c:\\Users\\manue\\OneDrive\\Escritorio\\Proyecto WhoScored\n"
     ]
    }
   ],
   "source": [
    "# === Añadir automáticamente la raíz del proyecto al sys.path (para imports desde src/) ===\n",
    "import sys\n",
    "from pathlib import Path\n",
    "\n",
    "def add_project_root(marker='src', max_hops=7):\n",
    "    p = Path.cwd()\n",
    "    for _ in range(max_hops):\n",
    "        if (p / marker).exists():\n",
    "            sys.path.insert(0, str(p))\n",
    "            print(f\"[OK] sys.path += {p}\")\n",
    "            return p\n",
    "        p = p.parent\n",
    "    raise RuntimeError(\"No se encontró la raíz del proyecto (carpeta 'src').\")\n",
    "\n",
    "PROJECT_ROOT = add_project_root()"
   ]
  },
  {
   "cell_type": "code",
   "execution_count": 19,
   "id": "f330d540",
   "metadata": {},
   "outputs": [
    {
     "name": "stdout",
     "output_type": "stream",
     "text": [
      "Fixtures CSV → C:\\Users\\manue\\OneDrive\\Escritorio\\Proyecto WhoScored\\data\\raw\\fixtures\\DataFixtures\\laliga\\2025-2026\\finished_matches.csv\n"
     ]
    },
    {
     "data": {
      "application/vnd.microsoft.datawrangler.viewer.v0+json": {
       "columns": [
        {
         "name": "index",
         "rawType": "int64",
         "type": "integer"
        },
        {
         "name": "match_date",
         "rawType": "object",
         "type": "string"
        },
        {
         "name": "start_time",
         "rawType": "object",
         "type": "string"
        },
        {
         "name": "home_name",
         "rawType": "object",
         "type": "string"
        },
        {
         "name": "away_name",
         "rawType": "object",
         "type": "string"
        },
        {
         "name": "match_id",
         "rawType": "int64",
         "type": "integer"
        },
        {
         "name": "match_centre_url",
         "rawType": "object",
         "type": "string"
        },
        {
         "name": "score_home",
         "rawType": "int64",
         "type": "integer"
        },
        {
         "name": "score_away",
         "rawType": "int64",
         "type": "integer"
        },
        {
         "name": "is_finished",
         "rawType": "bool",
         "type": "boolean"
        }
       ],
       "ref": "a2fde80c-43a0-4d3a-b65e-08e2c759161b",
       "rows": [
        [
         "0",
         "2025-08-15",
         "19:00",
         "Girona",
         "Rayo Vallecano",
         "1913916",
         "https://es.whoscored.com/Matches/1913916/Live",
         "1",
         "3",
         "True"
        ],
        [
         "1",
         "2025-08-15",
         "21:30",
         "Villarreal",
         "Real Oviedo",
         "1913892",
         "https://es.whoscored.com/Matches/1913892/Live",
         "2",
         "0",
         "True"
        ],
        [
         "2",
         "2025-08-16",
         "19:30",
         "Mallorca",
         "Barcelona",
         "1913918",
         "https://es.whoscored.com/Matches/1913918/Live",
         "0",
         "3",
         "True"
        ],
        [
         "3",
         "2025-08-16",
         "21:30",
         "Deportivo Alaves",
         "Levante",
         "1913913",
         "https://es.whoscored.com/Matches/1913913/Live",
         "2",
         "1",
         "True"
        ],
        [
         "4",
         "2025-08-16",
         "21:30",
         "Valencia",
         "Real Sociedad",
         "1913889",
         "https://es.whoscored.com/Matches/1913889/Live",
         "1",
         "1",
         "True"
        ]
       ],
       "shape": {
        "columns": 9,
        "rows": 5
       }
      },
      "text/html": [
       "<div>\n",
       "<style scoped>\n",
       "    .dataframe tbody tr th:only-of-type {\n",
       "        vertical-align: middle;\n",
       "    }\n",
       "\n",
       "    .dataframe tbody tr th {\n",
       "        vertical-align: top;\n",
       "    }\n",
       "\n",
       "    .dataframe thead th {\n",
       "        text-align: right;\n",
       "    }\n",
       "</style>\n",
       "<table border=\"1\" class=\"dataframe\">\n",
       "  <thead>\n",
       "    <tr style=\"text-align: right;\">\n",
       "      <th></th>\n",
       "      <th>match_date</th>\n",
       "      <th>start_time</th>\n",
       "      <th>home_name</th>\n",
       "      <th>away_name</th>\n",
       "      <th>match_id</th>\n",
       "      <th>match_centre_url</th>\n",
       "      <th>score_home</th>\n",
       "      <th>score_away</th>\n",
       "      <th>is_finished</th>\n",
       "    </tr>\n",
       "  </thead>\n",
       "  <tbody>\n",
       "    <tr>\n",
       "      <th>0</th>\n",
       "      <td>2025-08-15</td>\n",
       "      <td>19:00</td>\n",
       "      <td>Girona</td>\n",
       "      <td>Rayo Vallecano</td>\n",
       "      <td>1913916</td>\n",
       "      <td>https://es.whoscored.com/Matches/1913916/Live</td>\n",
       "      <td>1</td>\n",
       "      <td>3</td>\n",
       "      <td>True</td>\n",
       "    </tr>\n",
       "    <tr>\n",
       "      <th>1</th>\n",
       "      <td>2025-08-15</td>\n",
       "      <td>21:30</td>\n",
       "      <td>Villarreal</td>\n",
       "      <td>Real Oviedo</td>\n",
       "      <td>1913892</td>\n",
       "      <td>https://es.whoscored.com/Matches/1913892/Live</td>\n",
       "      <td>2</td>\n",
       "      <td>0</td>\n",
       "      <td>True</td>\n",
       "    </tr>\n",
       "    <tr>\n",
       "      <th>2</th>\n",
       "      <td>2025-08-16</td>\n",
       "      <td>19:30</td>\n",
       "      <td>Mallorca</td>\n",
       "      <td>Barcelona</td>\n",
       "      <td>1913918</td>\n",
       "      <td>https://es.whoscored.com/Matches/1913918/Live</td>\n",
       "      <td>0</td>\n",
       "      <td>3</td>\n",
       "      <td>True</td>\n",
       "    </tr>\n",
       "    <tr>\n",
       "      <th>3</th>\n",
       "      <td>2025-08-16</td>\n",
       "      <td>21:30</td>\n",
       "      <td>Deportivo Alaves</td>\n",
       "      <td>Levante</td>\n",
       "      <td>1913913</td>\n",
       "      <td>https://es.whoscored.com/Matches/1913913/Live</td>\n",
       "      <td>2</td>\n",
       "      <td>1</td>\n",
       "      <td>True</td>\n",
       "    </tr>\n",
       "    <tr>\n",
       "      <th>4</th>\n",
       "      <td>2025-08-16</td>\n",
       "      <td>21:30</td>\n",
       "      <td>Valencia</td>\n",
       "      <td>Real Sociedad</td>\n",
       "      <td>1913889</td>\n",
       "      <td>https://es.whoscored.com/Matches/1913889/Live</td>\n",
       "      <td>1</td>\n",
       "      <td>1</td>\n",
       "      <td>True</td>\n",
       "    </tr>\n",
       "  </tbody>\n",
       "</table>\n",
       "</div>"
      ],
      "text/plain": [
       "   match_date start_time         home_name       away_name  match_id  \\\n",
       "0  2025-08-15      19:00            Girona  Rayo Vallecano   1913916   \n",
       "1  2025-08-15      21:30        Villarreal     Real Oviedo   1913892   \n",
       "2  2025-08-16      19:30          Mallorca       Barcelona   1913918   \n",
       "3  2025-08-16      21:30  Deportivo Alaves         Levante   1913913   \n",
       "4  2025-08-16      21:30          Valencia   Real Sociedad   1913889   \n",
       "\n",
       "                                match_centre_url  score_home  score_away  \\\n",
       "0  https://es.whoscored.com/Matches/1913916/Live           1           3   \n",
       "1  https://es.whoscored.com/Matches/1913892/Live           2           0   \n",
       "2  https://es.whoscored.com/Matches/1913918/Live           0           3   \n",
       "3  https://es.whoscored.com/Matches/1913913/Live           2           1   \n",
       "4  https://es.whoscored.com/Matches/1913889/Live           1           1   \n",
       "\n",
       "   is_finished  \n",
       "0         True  \n",
       "1         True  \n",
       "2         True  \n",
       "3         True  \n",
       "4         True  "
      ]
     },
     "metadata": {},
     "output_type": "display_data"
    }
   ],
   "source": [
    "from pathlib import Path\n",
    "import pandas as pd\n",
    "\n",
    "DATA_DIR = (PROJECT_ROOT / \"data\").resolve()\n",
    "fixtures_root = DATA_DIR / \"raw\" / \"fixtures\" / \"DataFixtures\"\n",
    "\n",
    "csv_paths = sorted(fixtures_root.rglob(\"finished_matches.csv\"))\n",
    "assert csv_paths, \"No se encontró ningún finished_matches.csv. ¿Ejecutaste el Paso 2?\"\n",
    "fixtures_csv = csv_paths[-1]\n",
    "print(\"Fixtures CSV →\", fixtures_csv)\n",
    "\n",
    "df_fix = pd.read_csv(fixtures_csv)\n",
    "display(df_fix.head())"
   ]
  },
  {
   "cell_type": "code",
   "execution_count": 20,
   "id": "c1c0f434",
   "metadata": {},
   "outputs": [
    {
     "ename": "IndexError",
     "evalue": "list index out of range",
     "output_type": "error",
     "traceback": [
      "\u001b[1;31m---------------------------------------------------------------------------\u001b[0m",
      "\u001b[1;31mIndexError\u001b[0m                                Traceback (most recent call last)",
      "Cell \u001b[1;32mIn[20], line 4\u001b[0m\n\u001b[0;32m      2\u001b[0m PROJECT_ROOT \u001b[38;5;241m=\u001b[39m Path\u001b[38;5;241m.\u001b[39mcwd()\u001b[38;5;241m.\u001b[39mresolve()\n\u001b[0;32m      3\u001b[0m OUT_ROOT \u001b[38;5;241m=\u001b[39m PROJECT_ROOT \u001b[38;5;241m/\u001b[39m \u001b[38;5;124m\"\u001b[39m\u001b[38;5;124mdata\u001b[39m\u001b[38;5;124m\"\u001b[39m \u001b[38;5;241m/\u001b[39m \u001b[38;5;124m\"\u001b[39m\u001b[38;5;124mraw\u001b[39m\u001b[38;5;124m\"\u001b[39m \u001b[38;5;241m/\u001b[39m \u001b[38;5;124m\"\u001b[39m\u001b[38;5;124mmatchcenter\u001b[39m\u001b[38;5;124m\"\u001b[39m\n\u001b[1;32m----> 4\u001b[0m fixtures_csv \u001b[38;5;241m=\u001b[39m \u001b[38;5;28;43msorted\u001b[39;49m\u001b[43m(\u001b[49m\u001b[43m(\u001b[49m\u001b[43mPROJECT_ROOT\u001b[49m\u001b[38;5;241;43m/\u001b[39;49m\u001b[38;5;124;43m\"\u001b[39;49m\u001b[38;5;124;43mdata/raw/fixtures/DataFixtures\u001b[39;49m\u001b[38;5;124;43m\"\u001b[39;49m\u001b[43m)\u001b[49m\u001b[38;5;241;43m.\u001b[39;49m\u001b[43mrglob\u001b[49m\u001b[43m(\u001b[49m\u001b[38;5;124;43m\"\u001b[39;49m\u001b[38;5;124;43mfinished_matches.csv\u001b[39;49m\u001b[38;5;124;43m\"\u001b[39;49m\u001b[43m)\u001b[49m\u001b[43m)\u001b[49m\u001b[43m[\u001b[49m\u001b[38;5;241;43m-\u001b[39;49m\u001b[38;5;241;43m1\u001b[39;49m\u001b[43m]\u001b[49m\n\u001b[0;32m      5\u001b[0m match_url \u001b[38;5;241m=\u001b[39m pd\u001b[38;5;241m.\u001b[39mread_csv(fixtures_csv)\u001b[38;5;241m.\u001b[39mloc[\u001b[38;5;241m0\u001b[39m, \u001b[38;5;124m\"\u001b[39m\u001b[38;5;124mmatch_centre_url\u001b[39m\u001b[38;5;124m\"\u001b[39m]\n\u001b[0;32m      6\u001b[0m subprocess\u001b[38;5;241m.\u001b[39mrun([sys\u001b[38;5;241m.\u001b[39mexecutable, \u001b[38;5;28mstr\u001b[39m(PROJECT_ROOT\u001b[38;5;241m/\u001b[39m\u001b[38;5;124m\"\u001b[39m\u001b[38;5;124msrc/whoscored_viz/whoscored_matchcenter.py\u001b[39m\u001b[38;5;124m\"\u001b[39m),\n\u001b[0;32m      7\u001b[0m                 \u001b[38;5;124m\"\u001b[39m\u001b[38;5;124m--url\u001b[39m\u001b[38;5;124m\"\u001b[39m, \u001b[38;5;28mstr\u001b[39m(match_url), \u001b[38;5;124m\"\u001b[39m\u001b[38;5;124m--no-headless\u001b[39m\u001b[38;5;124m\"\u001b[39m, \u001b[38;5;124m\"\u001b[39m\u001b[38;5;124m--out\u001b[39m\u001b[38;5;124m\"\u001b[39m, \u001b[38;5;28mstr\u001b[39m(OUT_ROOT)], check\u001b[38;5;241m=\u001b[39m\u001b[38;5;28;01mTrue\u001b[39;00m)\n",
      "\u001b[1;31mIndexError\u001b[0m: list index out of range"
     ]
    }
   ],
   "source": [
    "from pathlib import Path; import sys, subprocess, pandas as pd\n",
    "PROJECT_ROOT = Path.cwd().resolve()\n",
    "OUT_ROOT = PROJECT_ROOT / \"data\" / \"raw\" / \"matchcenter\"\n",
    "fixtures_csv = sorted((PROJECT_ROOT/\"data/raw/fixtures/DataFixtures\").rglob(\"finished_matches.csv\"))[-1]\n",
    "match_url = pd.read_csv(fixtures_csv).loc[0, \"match_centre_url\"]\n",
    "subprocess.run([sys.executable, str(PROJECT_ROOT/\"src/whoscored_viz/whoscored_matchcenter.py\"),\n",
    "                \"--url\", str(match_url), \"--no-headless\", \"--out\", str(OUT_ROOT)], check=True)"
   ]
  }
 ],
 "metadata": {
  "kernelspec": {
   "display_name": ".venv",
   "language": "python",
   "name": "python3"
  },
  "language_info": {
   "codemirror_mode": {
    "name": "ipython",
    "version": 3
   },
   "file_extension": ".py",
   "mimetype": "text/x-python",
   "name": "python",
   "nbconvert_exporter": "python",
   "pygments_lexer": "ipython3",
   "version": "3.10.11"
  }
 },
 "nbformat": 4,
 "nbformat_minor": 5
}
