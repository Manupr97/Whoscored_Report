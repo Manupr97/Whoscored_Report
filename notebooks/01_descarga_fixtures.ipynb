{
 "cells": [
  {
   "cell_type": "code",
   "execution_count": 11,
   "id": "19b3f551",
   "metadata": {},
   "outputs": [
    {
     "name": "stdout",
     "output_type": "stream",
     "text": [
      "[OK] Raíz del proyecto: c:\\Users\\manue\\OneDrive\\Escritorio\\Proyecto WhoScored\n",
      "[OK] Carpeta data absoluta: c:\\Users\\manue\\OneDrive\\Escritorio\\Proyecto WhoScored\\data\n"
     ]
    }
   ],
   "source": [
    "from pathlib import Path\n",
    "\n",
    "# Detecta la raíz del repo (la que contiene 'src')\n",
    "def find_project_root(marker=\"src\", max_hops=7):\n",
    "    p = Path.cwd()\n",
    "    for _ in range(max_hops):\n",
    "        if (p / marker).exists():\n",
    "            return p\n",
    "        p = p.parent\n",
    "    raise RuntimeError(f\"No se encontró la raíz del proyecto desde {Path.cwd()}\")\n",
    "\n",
    "PROJECT_ROOT = find_project_root()\n",
    "DATA_DIR = PROJECT_ROOT / \"data\"  # <- carpeta 'data' de la raíz\n",
    "\n",
    "print(\"[OK] Raíz del proyecto:\", PROJECT_ROOT)\n",
    "print(\"[OK] Carpeta data absoluta:\", DATA_DIR)"
   ]
  },
  {
   "cell_type": "code",
   "execution_count": 12,
   "id": "f3b1d367",
   "metadata": {},
   "outputs": [
    {
     "data": {
      "application/vnd.microsoft.datawrangler.viewer.v0+json": {
       "columns": [
        {
         "name": "index",
         "rawType": "int64",
         "type": "integer"
        },
        {
         "name": "match_date",
         "rawType": "object",
         "type": "string"
        },
        {
         "name": "start_time",
         "rawType": "object",
         "type": "string"
        },
        {
         "name": "home_name",
         "rawType": "object",
         "type": "string"
        },
        {
         "name": "away_name",
         "rawType": "object",
         "type": "string"
        },
        {
         "name": "match_id",
         "rawType": "object",
         "type": "string"
        },
        {
         "name": "match_centre_url",
         "rawType": "object",
         "type": "string"
        },
        {
         "name": "score_home",
         "rawType": "int64",
         "type": "integer"
        },
        {
         "name": "score_away",
         "rawType": "int64",
         "type": "integer"
        },
        {
         "name": "is_finished",
         "rawType": "bool",
         "type": "boolean"
        }
       ],
       "ref": "884e3054-846d-4336-9f9e-b09ca5207ffe",
       "rows": [
        [
         "0",
         "2025-08-15",
         "19:00",
         "Girona",
         "Rayo Vallecano",
         "1913916",
         "https://es.whoscored.com/Matches/1913916/Live",
         "1",
         "3",
         "True"
        ],
        [
         "1",
         "2025-08-15",
         "21:30",
         "Villarreal",
         "Real Oviedo",
         "1913892",
         "https://es.whoscored.com/Matches/1913892/Live",
         "2",
         "0",
         "True"
        ],
        [
         "2",
         "2025-08-16",
         "19:30",
         "Mallorca",
         "Barcelona",
         "1913918",
         "https://es.whoscored.com/Matches/1913918/Live",
         "0",
         "3",
         "True"
        ],
        [
         "3",
         "2025-08-16",
         "21:30",
         "Deportivo Alaves",
         "Levante",
         "1913913",
         "https://es.whoscored.com/Matches/1913913/Live",
         "2",
         "1",
         "True"
        ],
        [
         "4",
         "2025-08-16",
         "21:30",
         "Valencia",
         "Real Sociedad",
         "1913889",
         "https://es.whoscored.com/Matches/1913889/Live",
         "1",
         "1",
         "True"
        ]
       ],
       "shape": {
        "columns": 9,
        "rows": 5
       }
      },
      "text/html": [
       "<div>\n",
       "<style scoped>\n",
       "    .dataframe tbody tr th:only-of-type {\n",
       "        vertical-align: middle;\n",
       "    }\n",
       "\n",
       "    .dataframe tbody tr th {\n",
       "        vertical-align: top;\n",
       "    }\n",
       "\n",
       "    .dataframe thead th {\n",
       "        text-align: right;\n",
       "    }\n",
       "</style>\n",
       "<table border=\"1\" class=\"dataframe\">\n",
       "  <thead>\n",
       "    <tr style=\"text-align: right;\">\n",
       "      <th></th>\n",
       "      <th>match_date</th>\n",
       "      <th>start_time</th>\n",
       "      <th>home_name</th>\n",
       "      <th>away_name</th>\n",
       "      <th>match_id</th>\n",
       "      <th>match_centre_url</th>\n",
       "      <th>score_home</th>\n",
       "      <th>score_away</th>\n",
       "      <th>is_finished</th>\n",
       "    </tr>\n",
       "  </thead>\n",
       "  <tbody>\n",
       "    <tr>\n",
       "      <th>0</th>\n",
       "      <td>2025-08-15</td>\n",
       "      <td>19:00</td>\n",
       "      <td>Girona</td>\n",
       "      <td>Rayo Vallecano</td>\n",
       "      <td>1913916</td>\n",
       "      <td>https://es.whoscored.com/Matches/1913916/Live</td>\n",
       "      <td>1</td>\n",
       "      <td>3</td>\n",
       "      <td>True</td>\n",
       "    </tr>\n",
       "    <tr>\n",
       "      <th>1</th>\n",
       "      <td>2025-08-15</td>\n",
       "      <td>21:30</td>\n",
       "      <td>Villarreal</td>\n",
       "      <td>Real Oviedo</td>\n",
       "      <td>1913892</td>\n",
       "      <td>https://es.whoscored.com/Matches/1913892/Live</td>\n",
       "      <td>2</td>\n",
       "      <td>0</td>\n",
       "      <td>True</td>\n",
       "    </tr>\n",
       "    <tr>\n",
       "      <th>2</th>\n",
       "      <td>2025-08-16</td>\n",
       "      <td>19:30</td>\n",
       "      <td>Mallorca</td>\n",
       "      <td>Barcelona</td>\n",
       "      <td>1913918</td>\n",
       "      <td>https://es.whoscored.com/Matches/1913918/Live</td>\n",
       "      <td>0</td>\n",
       "      <td>3</td>\n",
       "      <td>True</td>\n",
       "    </tr>\n",
       "    <tr>\n",
       "      <th>3</th>\n",
       "      <td>2025-08-16</td>\n",
       "      <td>21:30</td>\n",
       "      <td>Deportivo Alaves</td>\n",
       "      <td>Levante</td>\n",
       "      <td>1913913</td>\n",
       "      <td>https://es.whoscored.com/Matches/1913913/Live</td>\n",
       "      <td>2</td>\n",
       "      <td>1</td>\n",
       "      <td>True</td>\n",
       "    </tr>\n",
       "    <tr>\n",
       "      <th>4</th>\n",
       "      <td>2025-08-16</td>\n",
       "      <td>21:30</td>\n",
       "      <td>Valencia</td>\n",
       "      <td>Real Sociedad</td>\n",
       "      <td>1913889</td>\n",
       "      <td>https://es.whoscored.com/Matches/1913889/Live</td>\n",
       "      <td>1</td>\n",
       "      <td>1</td>\n",
       "      <td>True</td>\n",
       "    </tr>\n",
       "  </tbody>\n",
       "</table>\n",
       "</div>"
      ],
      "text/plain": [
       "   match_date start_time         home_name       away_name match_id  \\\n",
       "0  2025-08-15      19:00            Girona  Rayo Vallecano  1913916   \n",
       "1  2025-08-15      21:30        Villarreal     Real Oviedo  1913892   \n",
       "2  2025-08-16      19:30          Mallorca       Barcelona  1913918   \n",
       "3  2025-08-16      21:30  Deportivo Alaves         Levante  1913913   \n",
       "4  2025-08-16      21:30          Valencia   Real Sociedad  1913889   \n",
       "\n",
       "                                match_centre_url  score_home  score_away  \\\n",
       "0  https://es.whoscored.com/Matches/1913916/Live           1           3   \n",
       "1  https://es.whoscored.com/Matches/1913892/Live           2           0   \n",
       "2  https://es.whoscored.com/Matches/1913918/Live           0           3   \n",
       "3  https://es.whoscored.com/Matches/1913913/Live           2           1   \n",
       "4  https://es.whoscored.com/Matches/1913889/Live           1           1   \n",
       "\n",
       "   is_finished  \n",
       "0         True  \n",
       "1         True  \n",
       "2         True  \n",
       "3         True  \n",
       "4         True  "
      ]
     },
     "metadata": {},
     "output_type": "display_data"
    }
   ],
   "source": [
    "from datetime import date\n",
    "from src.whoscored_viz.whoscored_fixtures import make_driver, scrape_range_finished\n",
    "\n",
    "start_date = date(2025, 8, 1)\n",
    "end_date   = date(2025, 8, 31)\n",
    "\n",
    "# Usa la ruta absoluta hacia data/raw/fixtures en la raíz del repo\n",
    "out_dir = str(DATA_DIR / \"raw\" / \"fixtures\")\n",
    "\n",
    "driver = make_driver(use_uc=True, headless=True)\n",
    "df_fixtures = scrape_range_finished(driver, start_date, end_date, out_dir)\n",
    "driver.quit()\n",
    "\n",
    "display(df_fixtures.head())"
   ]
  },
  {
   "cell_type": "code",
   "execution_count": 1,
   "id": "73153360",
   "metadata": {},
   "outputs": [
    {
     "name": "stdout",
     "output_type": "stream",
     "text": [
      "Fixtures CSV → c:\\Users\\manue\\OneDrive\\Escritorio\\Proyecto WhoScored\\data\\raw\\fixtures\\DataFixtures\\laliga\\2025-2026\\range_20250801_20250831\\finished_matches.csv\n"
     ]
    },
    {
     "data": {
      "application/vnd.microsoft.datawrangler.viewer.v0+json": {
       "columns": [
        {
         "name": "index",
         "rawType": "int64",
         "type": "integer"
        },
        {
         "name": "match_date",
         "rawType": "object",
         "type": "string"
        },
        {
         "name": "start_time",
         "rawType": "object",
         "type": "string"
        },
        {
         "name": "home_name",
         "rawType": "object",
         "type": "string"
        },
        {
         "name": "away_name",
         "rawType": "object",
         "type": "string"
        },
        {
         "name": "match_id",
         "rawType": "int64",
         "type": "integer"
        },
        {
         "name": "match_centre_url",
         "rawType": "object",
         "type": "string"
        },
        {
         "name": "score_home",
         "rawType": "int64",
         "type": "integer"
        },
        {
         "name": "score_away",
         "rawType": "int64",
         "type": "integer"
        },
        {
         "name": "is_finished",
         "rawType": "bool",
         "type": "boolean"
        }
       ],
       "ref": "8a77ba53-4a4c-4abd-85b2-3c310135ade3",
       "rows": [
        [
         "0",
         "2025-08-15",
         "19:00",
         "Girona",
         "Rayo Vallecano",
         "1913916",
         "https://es.whoscored.com/Matches/1913916/Live",
         "1",
         "3",
         "True"
        ],
        [
         "1",
         "2025-08-15",
         "21:30",
         "Villarreal",
         "Real Oviedo",
         "1913892",
         "https://es.whoscored.com/Matches/1913892/Live",
         "2",
         "0",
         "True"
        ],
        [
         "2",
         "2025-08-16",
         "19:30",
         "Mallorca",
         "Barcelona",
         "1913918",
         "https://es.whoscored.com/Matches/1913918/Live",
         "0",
         "3",
         "True"
        ]
       ],
       "shape": {
        "columns": 9,
        "rows": 3
       }
      },
      "text/html": [
       "<div>\n",
       "<style scoped>\n",
       "    .dataframe tbody tr th:only-of-type {\n",
       "        vertical-align: middle;\n",
       "    }\n",
       "\n",
       "    .dataframe tbody tr th {\n",
       "        vertical-align: top;\n",
       "    }\n",
       "\n",
       "    .dataframe thead th {\n",
       "        text-align: right;\n",
       "    }\n",
       "</style>\n",
       "<table border=\"1\" class=\"dataframe\">\n",
       "  <thead>\n",
       "    <tr style=\"text-align: right;\">\n",
       "      <th></th>\n",
       "      <th>match_date</th>\n",
       "      <th>start_time</th>\n",
       "      <th>home_name</th>\n",
       "      <th>away_name</th>\n",
       "      <th>match_id</th>\n",
       "      <th>match_centre_url</th>\n",
       "      <th>score_home</th>\n",
       "      <th>score_away</th>\n",
       "      <th>is_finished</th>\n",
       "    </tr>\n",
       "  </thead>\n",
       "  <tbody>\n",
       "    <tr>\n",
       "      <th>0</th>\n",
       "      <td>2025-08-15</td>\n",
       "      <td>19:00</td>\n",
       "      <td>Girona</td>\n",
       "      <td>Rayo Vallecano</td>\n",
       "      <td>1913916</td>\n",
       "      <td>https://es.whoscored.com/Matches/1913916/Live</td>\n",
       "      <td>1</td>\n",
       "      <td>3</td>\n",
       "      <td>True</td>\n",
       "    </tr>\n",
       "    <tr>\n",
       "      <th>1</th>\n",
       "      <td>2025-08-15</td>\n",
       "      <td>21:30</td>\n",
       "      <td>Villarreal</td>\n",
       "      <td>Real Oviedo</td>\n",
       "      <td>1913892</td>\n",
       "      <td>https://es.whoscored.com/Matches/1913892/Live</td>\n",
       "      <td>2</td>\n",
       "      <td>0</td>\n",
       "      <td>True</td>\n",
       "    </tr>\n",
       "    <tr>\n",
       "      <th>2</th>\n",
       "      <td>2025-08-16</td>\n",
       "      <td>19:30</td>\n",
       "      <td>Mallorca</td>\n",
       "      <td>Barcelona</td>\n",
       "      <td>1913918</td>\n",
       "      <td>https://es.whoscored.com/Matches/1913918/Live</td>\n",
       "      <td>0</td>\n",
       "      <td>3</td>\n",
       "      <td>True</td>\n",
       "    </tr>\n",
       "  </tbody>\n",
       "</table>\n",
       "</div>"
      ],
      "text/plain": [
       "   match_date start_time   home_name       away_name  match_id  \\\n",
       "0  2025-08-15      19:00      Girona  Rayo Vallecano   1913916   \n",
       "1  2025-08-15      21:30  Villarreal     Real Oviedo   1913892   \n",
       "2  2025-08-16      19:30    Mallorca       Barcelona   1913918   \n",
       "\n",
       "                                match_centre_url  score_home  score_away  \\\n",
       "0  https://es.whoscored.com/Matches/1913916/Live           1           3   \n",
       "1  https://es.whoscored.com/Matches/1913892/Live           2           0   \n",
       "2  https://es.whoscored.com/Matches/1913918/Live           0           3   \n",
       "\n",
       "   is_finished  \n",
       "0         True  \n",
       "1         True  \n",
       "2         True  "
      ]
     },
     "execution_count": 1,
     "metadata": {},
     "output_type": "execute_result"
    }
   ],
   "source": [
    "from pathlib import Path\n",
    "import pandas as pd\n",
    "\n",
    "# Detectar raíz del proyecto (la carpeta que contiene 'src')\n",
    "def find_project_root(marker=\"src\", max_hops=7):\n",
    "    p = Path.cwd()\n",
    "    for _ in range(max_hops):\n",
    "        if (p / marker).exists():\n",
    "            return p\n",
    "        p = p.parent\n",
    "    raise RuntimeError(f\"No se encontró la raíz del proyecto desde {Path.cwd()}\")\n",
    "\n",
    "PROJECT_ROOT = find_project_root()\n",
    "DATA_DIR = PROJECT_ROOT / \"data\"\n",
    "\n",
    "# Busca el último finished_matches.csv generado dentro de data/raw/fixtures/DataFixtures/**/\n",
    "fixtures_root = DATA_DIR / \"raw\" / \"fixtures\" / \"DataFixtures\"\n",
    "csv_paths = sorted(fixtures_root.rglob(\"finished_matches.csv\"))\n",
    "assert csv_paths, \"No se encontró ningún finished_matches.csv. ¿Ejecutaste el Paso 2?\"\n",
    "fixtures_csv = csv_paths[-1]  # el más reciente\n",
    "\n",
    "df_fix = pd.read_csv(fixtures_csv)\n",
    "print(\"Fixtures CSV →\", fixtures_csv)\n",
    "df_fix.head(3)"
   ]
  },
  {
   "cell_type": "code",
   "execution_count": 4,
   "id": "11b47e4e",
   "metadata": {},
   "outputs": [
    {
     "name": "stdout",
     "output_type": "stream",
     "text": [
      "Ejecutando: c:\\Users\\manue\\OneDrive\\Escritorio\\Proyecto WhoScored\\.venv\\Scripts\\python.exe c:\\Users\\manue\\OneDrive\\Escritorio\\Proyecto WhoScored\\src\\whoscored_viz\\whoscored_matchcenter.py --url https://es.whoscored.com/Matches/1913916/Live\n",
      "returncode: 1\n",
      "---- STDOUT ----\n",
      " \n",
      "---- STDERR ----\n",
      " Traceback (most recent call last):\n",
      "  File \"c:\\Users\\manue\\OneDrive\\Escritorio\\Proyecto WhoScored\\src\\whoscored_viz\\whoscored_matchcenter.py\", line 952, in <module>\n",
      "    main()\n",
      "  File \"c:\\Users\\manue\\OneDrive\\Escritorio\\Proyecto WhoScored\\src\\whoscored_viz\\whoscored_matchcenter.py\", line 940, in main\n",
      "    res = process_one_match(\n",
      "  File \"c:\\Users\\manue\\OneDrive\\Escritorio\\Proyecto WhoScored\\src\\whoscored_viz\\whoscored_matchcenter.py\", line 861, in process_one_match\n",
      "    html = get_html_via_selenium(url, driver=driver, headless=headless)\n",
      "  File \"c:\\Users\\manue\\OneDrive\\Escritorio\\Proyecto WhoScored\\src\\whoscored_viz\\whoscored_matchcenter.py\", line 80, in get_html_via_selenium\n",
      "    WebDriverWait(driver, timeout).until(\n",
      "  File \"c:\\Users\\manue\\OneDrive\\Escritorio\\Proyecto WhoScored\\.venv\\lib\\site-packages\\selenium\\webdriver\\support\\wait.py\", line 138, in until\n",
      "    raise TimeoutException(message, screen, stacktrace)\n",
      "selenium.common.exceptions.TimeoutException: Message: \n",
      "Stacktrace:\n",
      "\tGetHandleVerifier [0x0x7ff722133d85+79397]\n",
      "\tGetHandleVerifier [0x0x7ff722133de0+79488]\n",
      "\t(No symbol) [0x0x7ff721edc0fa]\n",
      "\t(No symbol) [0x0x7ff721f32fd6]\n",
      "\t(No symbol) [0x0x7ff721f3328c]\n",
      "\t(No symbol) [0x0x7ff721f86537]\n",
      "\t(No symbol) [0x0x7ff721f5b1df]\n",
      "\t(No symbol) [0x0x7ff721f83344]\n",
      "\t(No symbol) [0x0x7ff721f5af73]\n",
      "\t(No symbol) [0x0x7ff721f241b1]\n",
      "\t(No symbol) [0x0x7ff721f24f43]\n",
      "\tGetHandleVerifier [0x0x7ff7223fe1ed+3005069]\n",
      "\tGetHandleVerifier [0x0x7ff7223f831d+2980797]\n",
      "\tGetHandleVerifier [0x0x7ff722417e0d+3110573]\n",
      "\tGetHandleVerifier [0x0x7ff72214d6de+184190]\n",
      "\tGetHandleVerifier [0x0x7ff72215516f+215567]\n",
      "\tGetHandleVerifier [0x0x7ff72213c974+115220]\n",
      "\tGetHandleVerifier [0x0x7ff72213cb29+115657]\n",
      "\tGetHandleVerifier [0x0x7ff722123268+11016]\n",
      "\tBaseThreadInitThunk [0x0x7fffcf2ce8d7+23]\n",
      "\tRtlUserThreadStart [0x0x7fffd00fc34c+44]\n",
      "\n",
      "\n"
     ]
    }
   ],
   "source": [
    "# 3.2 que ya tenías: seleccionar un partido\n",
    "row = df_fix.iloc[0]\n",
    "match_url = str(row[\"match_centre_url\"])\n",
    "\n",
    "# Ejecuta por URL en vez de match-id\n",
    "import sys, subprocess\n",
    "from pathlib import Path\n",
    "\n",
    "script_path = PROJECT_ROOT / \"src\" / \"whoscored_viz\" / \"whoscored_matchcenter.py\"\n",
    "\n",
    "cmd = [\n",
    "    sys.executable,\n",
    "    str(script_path),\n",
    "    \"--url\", match_url,  # <- aquí el cambio\n",
    "]\n",
    "print(\"Ejecutando:\", \" \".join(cmd))\n",
    "res = subprocess.run(cmd, capture_output=True, text=True)\n",
    "print(\"returncode:\", res.returncode)\n",
    "print(\"---- STDOUT ----\\n\", res.stdout[:2000])\n",
    "print(\"---- STDERR ----\\n\", res.stderr[:2000])"
   ]
  },
  {
   "cell_type": "code",
   "execution_count": 5,
   "id": "e83f0dcd",
   "metadata": {},
   "outputs": [
    {
     "ename": "ModuleNotFoundError",
     "evalue": "No module named 'src'",
     "output_type": "error",
     "traceback": [
      "\u001b[1;31m---------------------------------------------------------------------------\u001b[0m",
      "\u001b[1;31mModuleNotFoundError\u001b[0m                       Traceback (most recent call last)",
      "Cell \u001b[1;32mIn[5], line 2\u001b[0m\n\u001b[0;32m      1\u001b[0m \u001b[38;5;66;03m# Prueba directa visible para inspección\u001b[39;00m\n\u001b[1;32m----> 2\u001b[0m \u001b[38;5;28;01mfrom\u001b[39;00m\u001b[38;5;250m \u001b[39m\u001b[38;5;21;01msrc\u001b[39;00m\u001b[38;5;21;01m.\u001b[39;00m\u001b[38;5;21;01mwhoscored_viz\u001b[39;00m\u001b[38;5;21;01m.\u001b[39;00m\u001b[38;5;21;01mwhoscored_matchcenter\u001b[39;00m\u001b[38;5;250m \u001b[39m\u001b[38;5;28;01mimport\u001b[39;00m get_html_via_selenium\n\u001b[0;32m      3\u001b[0m html \u001b[38;5;241m=\u001b[39m get_html_via_selenium(match_url, headless\u001b[38;5;241m=\u001b[39m\u001b[38;5;28;01mFalse\u001b[39;00m, timeout\u001b[38;5;241m=\u001b[39m\u001b[38;5;241m60\u001b[39m)\n\u001b[0;32m      4\u001b[0m \u001b[38;5;28mprint\u001b[39m(\u001b[38;5;124m\"\u001b[39m\u001b[38;5;124mHTML length:\u001b[39m\u001b[38;5;124m\"\u001b[39m, \u001b[38;5;28mlen\u001b[39m(html))\n",
      "\u001b[1;31mModuleNotFoundError\u001b[0m: No module named 'src'"
     ]
    }
   ],
   "source": [
    "# Prueba directa visible para inspección\n",
    "from src.whoscored_viz.whoscored_matchcenter import get_html_via_selenium\n",
    "html = get_html_via_selenium(match_url, headless=False, timeout=60)\n",
    "print(\"HTML length:\", len(html))"
   ]
  }
 ],
 "metadata": {
  "kernelspec": {
   "display_name": ".venv",
   "language": "python",
   "name": "python3"
  },
  "language_info": {
   "codemirror_mode": {
    "name": "ipython",
    "version": 3
   },
   "file_extension": ".py",
   "mimetype": "text/x-python",
   "name": "python",
   "nbconvert_exporter": "python",
   "pygments_lexer": "ipython3",
   "version": "3.10.11"
  }
 },
 "nbformat": 4,
 "nbformat_minor": 5
}
