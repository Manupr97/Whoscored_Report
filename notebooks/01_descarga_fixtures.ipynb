{
 "cells": [
  {
   "cell_type": "code",
   "execution_count": 2,
   "id": "19b3f551",
   "metadata": {},
   "outputs": [
    {
     "name": "stdout",
     "output_type": "stream",
     "text": [
      "[OK] Raíz del proyecto: C:\\Users\\manue\\OneDrive\\Escritorio\\Proyecto WhoScored\n",
      "[OK] sys.path actualizado\n"
     ]
    }
   ],
   "source": [
    "import sys\n",
    "from pathlib import Path\n",
    "\n",
    "def find_project_root(markers=[\"src\", \".env\"], max_hops=7):\n",
    "    \"\"\"Busca la raíz del proyecto por múltiples marcadores\"\"\"\n",
    "    p = Path.cwd()\n",
    "    for _ in range(max_hops):\n",
    "        if any((p / marker).exists() for marker in markers):\n",
    "            return p\n",
    "        p = p.parent\n",
    "    raise RuntimeError(f\"No se encontró la raíz del proyecto desde {Path.cwd()}\")\n",
    "\n",
    "# Encontrar y añadir la raíz al path\n",
    "PROJECT_ROOT = find_project_root()\n",
    "if str(PROJECT_ROOT) not in sys.path:\n",
    "    sys.path.insert(0, str(PROJECT_ROOT))\n",
    "\n",
    "print(f\"[OK] Raíz del proyecto: {PROJECT_ROOT}\")\n",
    "print(f\"[OK] sys.path actualizado\")"
   ]
  },
  {
   "cell_type": "code",
   "execution_count": 3,
   "id": "f3b1d367",
   "metadata": {},
   "outputs": [
    {
     "name": "stdout",
     "output_type": "stream",
     "text": [
      "[paths.py] PROJECT_ROOT: C:\\Users\\manue\\OneDrive\\Escritorio\\Proyecto WhoScored\n",
      "[paths.py] BASE_DATA_DIR: C:\\Users\\manue\\OneDrive\\Escritorio\\Proyecto WhoScored\\data\n"
     ]
    },
    {
     "ename": "ImportError",
     "evalue": "cannot import name 'FIXTURES_DIR' from 'src.whoscored_viz.paths' (C:\\Users\\manue\\OneDrive\\Escritorio\\Proyecto WhoScored\\src\\whoscored_viz\\paths.py)",
     "output_type": "error",
     "traceback": [
      "\u001b[1;31m---------------------------------------------------------------------------\u001b[0m",
      "\u001b[1;31mImportError\u001b[0m                               Traceback (most recent call last)",
      "Cell \u001b[1;32mIn[3], line 4\u001b[0m\n\u001b[0;32m      2\u001b[0m \u001b[38;5;28;01mfrom\u001b[39;00m\u001b[38;5;250m \u001b[39m\u001b[38;5;21;01mpathlib\u001b[39;00m\u001b[38;5;250m \u001b[39m\u001b[38;5;28;01mimport\u001b[39;00m Path\n\u001b[0;32m      3\u001b[0m \u001b[38;5;66;03m# Importar después de configurar sys.path\u001b[39;00m\n\u001b[1;32m----> 4\u001b[0m \u001b[38;5;28;01mfrom\u001b[39;00m\u001b[38;5;250m \u001b[39m\u001b[38;5;21;01msrc\u001b[39;00m\u001b[38;5;21;01m.\u001b[39;00m\u001b[38;5;21;01mwhoscored_viz\u001b[39;00m\u001b[38;5;21;01m.\u001b[39;00m\u001b[38;5;21;01mwhoscored_fixtures\u001b[39;00m\u001b[38;5;250m \u001b[39m\u001b[38;5;28;01mimport\u001b[39;00m make_driver, scrape_range_finished\n\u001b[0;32m      5\u001b[0m \u001b[38;5;28;01mfrom\u001b[39;00m\u001b[38;5;250m \u001b[39m\u001b[38;5;21;01msrc\u001b[39;00m\u001b[38;5;21;01m.\u001b[39;00m\u001b[38;5;21;01mwhoscored_viz\u001b[39;00m\u001b[38;5;21;01m.\u001b[39;00m\u001b[38;5;21;01mpaths\u001b[39;00m\u001b[38;5;250m \u001b[39m\u001b[38;5;28;01mimport\u001b[39;00m BASE_DATA_DIR  \u001b[38;5;66;03m# Usar la ruta configurada\u001b[39;00m\n\u001b[0;32m      7\u001b[0m COMP_SLUG   \u001b[38;5;241m=\u001b[39m \u001b[38;5;124m\"\u001b[39m\u001b[38;5;124mlaliga\u001b[39m\u001b[38;5;124m\"\u001b[39m\n",
      "File \u001b[1;32m~\\OneDrive\\Escritorio\\Proyecto WhoScored\\src\\whoscored_viz\\whoscored_fixtures.py:536\u001b[0m\n\u001b[0;32m    532\u001b[0m     tmp\u001b[38;5;241m.\u001b[39mreplace(target_csv)\n\u001b[0;32m    534\u001b[0m     \u001b[38;5;28;01mreturn\u001b[39;00m target_csv\n\u001b[1;32m--> 536\u001b[0m \u001b[38;5;28;01mfrom\u001b[39;00m\u001b[38;5;250m \u001b[39m\u001b[38;5;21;01m.\u001b[39;00m\u001b[38;5;21;01mpaths\u001b[39;00m\u001b[38;5;250m \u001b[39m\u001b[38;5;28;01mimport\u001b[39;00m FIXTURES_DIR\n\u001b[0;32m    538\u001b[0m \u001b[38;5;28;01mdef\u001b[39;00m\u001b[38;5;250m \u001b[39m\u001b[38;5;21mscrape_range_finished\u001b[39m(driver, start_date, end_date, out_dir,\n\u001b[0;32m    539\u001b[0m                           comp_slug\u001b[38;5;241m=\u001b[39m\u001b[38;5;124m\"\u001b[39m\u001b[38;5;124mlaliga\u001b[39m\u001b[38;5;124m\"\u001b[39m, season_slug\u001b[38;5;241m=\u001b[39m\u001b[38;5;124m\"\u001b[39m\u001b[38;5;124m2025-2026\u001b[39m\u001b[38;5;124m\"\u001b[39m,\n\u001b[0;32m    540\u001b[0m                           save_json\u001b[38;5;241m=\u001b[39m\u001b[38;5;28;01mTrue\u001b[39;00m, fixtures_url\u001b[38;5;241m=\u001b[39m\u001b[38;5;28;01mNone\u001b[39;00m):\n\u001b[0;32m    541\u001b[0m \u001b[38;5;250m    \u001b[39m\u001b[38;5;124;03m\"\"\"\u001b[39;00m\n\u001b[0;32m    542\u001b[0m \u001b[38;5;124;03m    Scrapea SOLO partidos finalizados entre [start_date, end_date], navegando mes a mes.\u001b[39;00m\n\u001b[0;32m    543\u001b[0m \u001b[38;5;124;03m    Guarda consolidado en: DataFixtures/<comp>/<season>/finished_matches.csv (+ .json opcional)\u001b[39;00m\n\u001b[0;32m    544\u001b[0m \u001b[38;5;124;03m    \"\"\"\u001b[39;00m\n",
      "\u001b[1;31mImportError\u001b[0m: cannot import name 'FIXTURES_DIR' from 'src.whoscored_viz.paths' (C:\\Users\\manue\\OneDrive\\Escritorio\\Proyecto WhoScored\\src\\whoscored_viz\\paths.py)"
     ]
    }
   ],
   "source": [
    "from datetime import date\n",
    "from pathlib import Path\n",
    "# Importar después de configurar sys.path\n",
    "from src.whoscored_viz.whoscored_fixtures import make_driver, scrape_range_finished\n",
    "from src.whoscored_viz.paths import BASE_DATA_DIR  # Usar la ruta configurada\n",
    "\n",
    "COMP_SLUG   = \"laliga\"\n",
    "SEASON_SLUG = \"2025-2026\"\n",
    "\n",
    "start_date = date(2025, 8, 1)\n",
    "end_date   = date(2025, 8, 31)\n",
    "\n",
    "# Usar BASE_DATA_DIR en lugar de PROJECT_ROOT\n",
    "out_dir = BASE_DATA_DIR / \"raw\" / \"fixtures\"\n",
    "\n",
    "driver = make_driver(use_uc=True, headless=False)\n",
    "df_fixtures = scrape_range_finished(driver, start_date, end_date, out_dir,\n",
    "                                    comp_slug=COMP_SLUG, season_slug=SEASON_SLUG, save_json=True, fixtures_url=None)\n",
    "driver.quit()\n",
    "\n",
    "df_fixtures.head()"
   ]
  },
  {
   "cell_type": "code",
   "execution_count": null,
   "id": "73153360",
   "metadata": {},
   "outputs": [],
   "source": [
    "# IMPORTA DESDE TU MÓDULO (editable o sys.path)\n",
    "from datetime import date\n",
    "from pathlib import Path\n",
    "from src.whoscored_viz.paths import FIXTURES_DIR  # ← ruta absoluta a data/raw/fixtures\n",
    "from src.whoscored_viz.whoscored_fixtures import make_driver, scrape_range_finished, FIXTURES_URL\n",
    "\n",
    "# Comprobación de dónde vamos a escribir\n",
    "out_dir = FIXTURES_DIR  # p.ej. C:\\Users\\manue\\OneDrive\\Escritorio\\Proyecto WhoScored\\data\\raw\\fixtures\n",
    "print(\"[OUT] FIXTURES_DIR:\", out_dir)\n",
    "out_dir.mkdir(parents=True, exist_ok=True)\n",
    "\n",
    "# Parámetros de scraping\n",
    "COMP_SLUG   = \"laliga\"\n",
    "SEASON_SLUG = \"2025-2026\"\n",
    "start_date  = date(2025, 8, 1)\n",
    "end_date    = date(2025, 8, 31)\n",
    "\n",
    "# Verificación explícita de URL (evita el 'data;' en blanco)\n",
    "print(\"FIXTURES_URL =\", FIXTURES_URL)\n",
    "assert isinstance(FIXTURES_URL, str) and FIXTURES_URL.startswith(\"http\"), \"FIXTURES_URL inválida\"\n",
    "\n",
    "# Crea driver (usa visible para depurar; cambia a headless=True cuando esté estable)\n",
    "driver = make_driver(use_uc=True, headless=False)\n",
    "try:\n",
    "    df_new = scrape_range_finished(\n",
    "        driver, start_date, end_date, out_dir,\n",
    "        comp_slug=COMP_SLUG, season_slug=SEASON_SLUG,\n",
    "        save_json=True,\n",
    "        fixtures_url=FIXTURES_URL   # 👈 nunca None\n",
    "    )\n",
    "finally:\n",
    "    driver.quit()\n",
    "\n",
    "# Guardado consolidado defensivo (por si el scraper devolviera parciales)\n",
    "df_all = consolidate_fixtures(df_new)\n",
    "if df_all.empty:\n",
    "    raise RuntimeError(\"No se obtuvieron fixtures. Revisa la navegación y el rango de fechas.\")\n",
    "\n",
    "write_safe_csv_json(df_all, save_json=True)\n",
    "print(\"[OK] CSV consolidado →\", out_dir / \"DataFixtures\" / COMP_SLUG / SEASON_SLUG / \"finished_matches.csv\")\n",
    "print(\"[OK] Filas:\", len(df_all))\n",
    "display(df_all.head(10))"
   ]
  }
 ],
 "metadata": {
  "kernelspec": {
   "display_name": ".venv",
   "language": "python",
   "name": "python3"
  },
  "language_info": {
   "codemirror_mode": {
    "name": "ipython",
    "version": 3
   },
   "file_extension": ".py",
   "mimetype": "text/x-python",
   "name": "python",
   "nbconvert_exporter": "python",
   "pygments_lexer": "ipython3",
   "version": "3.10.11"
  }
 },
 "nbformat": 4,
 "nbformat_minor": 5
}
