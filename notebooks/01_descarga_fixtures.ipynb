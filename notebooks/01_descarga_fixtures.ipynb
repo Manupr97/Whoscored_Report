{
 "cells": [
  {
   "cell_type": "code",
   "execution_count": 1,
   "id": "19b3f551",
   "metadata": {},
   "outputs": [
    {
     "name": "stdout",
     "output_type": "stream",
     "text": [
      "[OK] Raíz del proyecto: c:\\Users\\manue\\OneDrive\\Escritorio\\Proyecto WhoScored\n",
      "[OK] sys.path actualizado\n"
     ]
    }
   ],
   "source": [
    "import sys\n",
    "from pathlib import Path\n",
    "\n",
    "def find_project_root(markers=[\"src\", \".env\"], max_hops=7):\n",
    "    \"\"\"Busca la raíz del proyecto por múltiples marcadores\"\"\"\n",
    "    p = Path.cwd()\n",
    "    for _ in range(max_hops):\n",
    "        if any((p / marker).exists() for marker in markers):\n",
    "            return p\n",
    "        p = p.parent\n",
    "    raise RuntimeError(f\"No se encontró la raíz del proyecto desde {Path.cwd()}\")\n",
    "\n",
    "# Encontrar y añadir la raíz al path\n",
    "PROJECT_ROOT = find_project_root()\n",
    "if str(PROJECT_ROOT) not in sys.path:\n",
    "    sys.path.insert(0, str(PROJECT_ROOT))\n",
    "\n",
    "print(f\"[OK] Raíz del proyecto: {PROJECT_ROOT}\")\n",
    "print(f\"[OK] sys.path actualizado\")"
   ]
  },
  {
   "cell_type": "code",
   "execution_count": 2,
   "id": "f3b1d367",
   "metadata": {},
   "outputs": [
    {
     "name": "stdout",
     "output_type": "stream",
     "text": [
      "[paths.py] PROJECT_ROOT: c:\\Users\\manue\\OneDrive\\Escritorio\\Proyecto WhoScored\n",
      "[paths.py] BASE_DATA_DIR: C:\\Users\\manue\\OneDrive\\Escritorio\\Proyecto WhoScored\\data\n",
      "FIXTURES_URL: https://es.whoscored.com/regions/206/tournaments/4/seasons/10803/stages/24622/fixtures/espa%C3%B1a-laliga-2025-2026\n",
      "out_dir: C:\\Users\\manue\\OneDrive\\Escritorio\\Proyecto WhoScored\\data\\raw\\fixtures\n",
      "✅ Scraping completado. Filas obtenidas: 31\n",
      "📁 Datos guardados en: C:\\Users\\manue\\OneDrive\\Escritorio\\Proyecto WhoScored\\data\\raw\\fixtures/DataFixtures/laliga/2025-2026/\n"
     ]
    },
    {
     "data": {
      "application/vnd.microsoft.datawrangler.viewer.v0+json": {
       "columns": [
        {
         "name": "index",
         "rawType": "int64",
         "type": "integer"
        },
        {
         "name": "match_date",
         "rawType": "object",
         "type": "string"
        },
        {
         "name": "start_time",
         "rawType": "object",
         "type": "string"
        },
        {
         "name": "home_name",
         "rawType": "object",
         "type": "string"
        },
        {
         "name": "away_name",
         "rawType": "object",
         "type": "string"
        },
        {
         "name": "match_id",
         "rawType": "object",
         "type": "string"
        },
        {
         "name": "match_centre_url",
         "rawType": "object",
         "type": "string"
        },
        {
         "name": "score_home",
         "rawType": "int64",
         "type": "integer"
        },
        {
         "name": "score_away",
         "rawType": "int64",
         "type": "integer"
        },
        {
         "name": "is_finished",
         "rawType": "bool",
         "type": "boolean"
        }
       ],
       "ref": "b6cb2416-f4c8-4678-be4c-53d308436d7f",
       "rows": [
        [
         "0",
         "2025-08-15",
         "19:00",
         "Girona",
         "Rayo Vallecano",
         "1913916",
         "https://es.whoscored.com/Matches/1913916/Live",
         "1",
         "3",
         "True"
        ],
        [
         "1",
         "2025-08-15",
         "21:30",
         "Villarreal",
         "Real Oviedo",
         "1913892",
         "https://es.whoscored.com/Matches/1913892/Live",
         "2",
         "0",
         "True"
        ],
        [
         "2",
         "2025-08-16",
         "19:30",
         "Mallorca",
         "Barcelona",
         "1913918",
         "https://es.whoscored.com/Matches/1913918/Live",
         "0",
         "3",
         "True"
        ],
        [
         "3",
         "2025-08-16",
         "21:30",
         "Deportivo Alaves",
         "Levante",
         "1913913",
         "https://es.whoscored.com/Matches/1913913/Live",
         "2",
         "1",
         "True"
        ],
        [
         "4",
         "2025-08-16",
         "21:30",
         "Valencia",
         "Real Sociedad",
         "1913889",
         "https://es.whoscored.com/Matches/1913889/Live",
         "1",
         "1",
         "True"
        ]
       ],
       "shape": {
        "columns": 9,
        "rows": 5
       }
      },
      "text/html": [
       "<div>\n",
       "<style scoped>\n",
       "    .dataframe tbody tr th:only-of-type {\n",
       "        vertical-align: middle;\n",
       "    }\n",
       "\n",
       "    .dataframe tbody tr th {\n",
       "        vertical-align: top;\n",
       "    }\n",
       "\n",
       "    .dataframe thead th {\n",
       "        text-align: right;\n",
       "    }\n",
       "</style>\n",
       "<table border=\"1\" class=\"dataframe\">\n",
       "  <thead>\n",
       "    <tr style=\"text-align: right;\">\n",
       "      <th></th>\n",
       "      <th>match_date</th>\n",
       "      <th>start_time</th>\n",
       "      <th>home_name</th>\n",
       "      <th>away_name</th>\n",
       "      <th>match_id</th>\n",
       "      <th>match_centre_url</th>\n",
       "      <th>score_home</th>\n",
       "      <th>score_away</th>\n",
       "      <th>is_finished</th>\n",
       "    </tr>\n",
       "  </thead>\n",
       "  <tbody>\n",
       "    <tr>\n",
       "      <th>0</th>\n",
       "      <td>2025-08-15</td>\n",
       "      <td>19:00</td>\n",
       "      <td>Girona</td>\n",
       "      <td>Rayo Vallecano</td>\n",
       "      <td>1913916</td>\n",
       "      <td>https://es.whoscored.com/Matches/1913916/Live</td>\n",
       "      <td>1</td>\n",
       "      <td>3</td>\n",
       "      <td>True</td>\n",
       "    </tr>\n",
       "    <tr>\n",
       "      <th>1</th>\n",
       "      <td>2025-08-15</td>\n",
       "      <td>21:30</td>\n",
       "      <td>Villarreal</td>\n",
       "      <td>Real Oviedo</td>\n",
       "      <td>1913892</td>\n",
       "      <td>https://es.whoscored.com/Matches/1913892/Live</td>\n",
       "      <td>2</td>\n",
       "      <td>0</td>\n",
       "      <td>True</td>\n",
       "    </tr>\n",
       "    <tr>\n",
       "      <th>2</th>\n",
       "      <td>2025-08-16</td>\n",
       "      <td>19:30</td>\n",
       "      <td>Mallorca</td>\n",
       "      <td>Barcelona</td>\n",
       "      <td>1913918</td>\n",
       "      <td>https://es.whoscored.com/Matches/1913918/Live</td>\n",
       "      <td>0</td>\n",
       "      <td>3</td>\n",
       "      <td>True</td>\n",
       "    </tr>\n",
       "    <tr>\n",
       "      <th>3</th>\n",
       "      <td>2025-08-16</td>\n",
       "      <td>21:30</td>\n",
       "      <td>Deportivo Alaves</td>\n",
       "      <td>Levante</td>\n",
       "      <td>1913913</td>\n",
       "      <td>https://es.whoscored.com/Matches/1913913/Live</td>\n",
       "      <td>2</td>\n",
       "      <td>1</td>\n",
       "      <td>True</td>\n",
       "    </tr>\n",
       "    <tr>\n",
       "      <th>4</th>\n",
       "      <td>2025-08-16</td>\n",
       "      <td>21:30</td>\n",
       "      <td>Valencia</td>\n",
       "      <td>Real Sociedad</td>\n",
       "      <td>1913889</td>\n",
       "      <td>https://es.whoscored.com/Matches/1913889/Live</td>\n",
       "      <td>1</td>\n",
       "      <td>1</td>\n",
       "      <td>True</td>\n",
       "    </tr>\n",
       "  </tbody>\n",
       "</table>\n",
       "</div>"
      ],
      "text/plain": [
       "   match_date start_time         home_name       away_name match_id  \\\n",
       "0  2025-08-15      19:00            Girona  Rayo Vallecano  1913916   \n",
       "1  2025-08-15      21:30        Villarreal     Real Oviedo  1913892   \n",
       "2  2025-08-16      19:30          Mallorca       Barcelona  1913918   \n",
       "3  2025-08-16      21:30  Deportivo Alaves         Levante  1913913   \n",
       "4  2025-08-16      21:30          Valencia   Real Sociedad  1913889   \n",
       "\n",
       "                                match_centre_url  score_home  score_away  \\\n",
       "0  https://es.whoscored.com/Matches/1913916/Live           1           3   \n",
       "1  https://es.whoscored.com/Matches/1913892/Live           2           0   \n",
       "2  https://es.whoscored.com/Matches/1913918/Live           0           3   \n",
       "3  https://es.whoscored.com/Matches/1913913/Live           2           1   \n",
       "4  https://es.whoscored.com/Matches/1913889/Live           1           1   \n",
       "\n",
       "   is_finished  \n",
       "0         True  \n",
       "1         True  \n",
       "2         True  \n",
       "3         True  \n",
       "4         True  "
      ]
     },
     "execution_count": 2,
     "metadata": {},
     "output_type": "execute_result"
    }
   ],
   "source": [
    "from datetime import date\n",
    "from pathlib import Path\n",
    "# Importar después de configurar sys.path\n",
    "from src.whoscored_viz.whoscored_fixtures import make_driver, scrape_range_finished, FIXTURES_URL\n",
    "from src.whoscored_viz.paths import BASE_DATA_DIR\n",
    "\n",
    "COMP_SLUG   = \"laliga\"\n",
    "SEASON_SLUG = \"2025-2026\"\n",
    "\n",
    "start_date = date(2025, 8, 1)\n",
    "end_date   = date(2025, 8, 31)\n",
    "\n",
    "# Usar BASE_DATA_DIR en lugar de PROJECT_ROOT\n",
    "out_dir = BASE_DATA_DIR / \"raw\" / \"fixtures\"\n",
    "\n",
    "# Verificar que la URL está bien definida\n",
    "print(f\"FIXTURES_URL: {FIXTURES_URL}\")\n",
    "print(f\"out_dir: {out_dir}\")\n",
    "\n",
    "driver = make_driver(use_uc=True, headless=False)\n",
    "try:\n",
    "    df_fixtures = scrape_range_finished(\n",
    "        driver, start_date, end_date, out_dir,\n",
    "        comp_slug=COMP_SLUG, season_slug=SEASON_SLUG, \n",
    "        save_json=True, fixtures_url=FIXTURES_URL  # Pasar explícitamente la URL\n",
    "    )\n",
    "    print(f\"✅ Scraping completado. Filas obtenidas: {len(df_fixtures)}\")\n",
    "    print(f\"📁 Datos guardados en: {out_dir}/DataFixtures/{COMP_SLUG}/{SEASON_SLUG}/\")\n",
    "finally:\n",
    "    driver.quit()\n",
    "\n",
    "df_fixtures.head() if not df_fixtures.empty else print(\"No se encontraron partidos finalizados\")"
   ]
  }
 ],
 "metadata": {
  "kernelspec": {
   "display_name": ".venv",
   "language": "python",
   "name": "python3"
  },
  "language_info": {
   "codemirror_mode": {
    "name": "ipython",
    "version": 3
   },
   "file_extension": ".py",
   "mimetype": "text/x-python",
   "name": "python",
   "nbconvert_exporter": "python",
   "pygments_lexer": "ipython3",
   "version": "3.10.11"
  }
 },
 "nbformat": 4,
 "nbformat_minor": 5
}
