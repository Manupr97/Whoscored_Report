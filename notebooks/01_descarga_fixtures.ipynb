{
 "cells": [
  {
   "cell_type": "code",
   "execution_count": 14,
   "id": "19b3f551",
   "metadata": {},
   "outputs": [
    {
     "name": "stdout",
     "output_type": "stream",
     "text": [
      "[OK] Raíz del proyecto: c:\\Users\\manue\\OneDrive\\Escritorio\\Proyecto WhoScored\n",
      "[OK] Carpeta data absoluta: c:\\Users\\manue\\OneDrive\\Escritorio\\Proyecto WhoScored\\data\n"
     ]
    }
   ],
   "source": [
    "from pathlib import Path\n",
    "\n",
    "# Detecta la raíz del repo (la que contiene 'src')\n",
    "def find_project_root(marker=\"src\", max_hops=7):\n",
    "    p = Path.cwd()\n",
    "    for _ in range(max_hops):\n",
    "        if (p / marker).exists():\n",
    "            return p\n",
    "        p = p.parent\n",
    "    raise RuntimeError(f\"No se encontró la raíz del proyecto desde {Path.cwd()}\")\n",
    "\n",
    "PROJECT_ROOT = find_project_root()\n",
    "DATA_DIR = PROJECT_ROOT / \"data\"  # <- carpeta 'data' de la raíz\n",
    "\n",
    "print(\"[OK] Raíz del proyecto:\", PROJECT_ROOT)\n",
    "print(\"[OK] Carpeta data absoluta:\", DATA_DIR)"
   ]
  },
  {
   "cell_type": "code",
   "execution_count": 18,
   "id": "f3b1d367",
   "metadata": {},
   "outputs": [
    {
     "ename": "InvalidArgumentException",
     "evalue": "Message: invalid argument: 'url' must be a string\n  (Session info: chrome=139.0.7258.155)\nStacktrace:\n\tGetHandleVerifier [0x0xe3a8a3+63283]\n\tGetHandleVerifier [0x0xe3a8e4+63348]\n\t(No symbol) [0x0xc73e43]\n\t(No symbol) [0x0xd033ae]\n\t(No symbol) [0x0xce141c]\n\t(No symbol) [0x0xd0271a]\n\t(No symbol) [0x0xce1216]\n\t(No symbol) [0x0xcb0855]\n\t(No symbol) [0x0xcb16f4]\n\tGetHandleVerifier [0x0x10abb43+2623955]\n\tGetHandleVerifier [0x0x10a6daa+2604090]\n\tGetHandleVerifier [0x0xe6069a+218410]\n\tGetHandleVerifier [0x0xe50ed8+154984]\n\tGetHandleVerifier [0x0xe5742d+180925]\n\tGetHandleVerifier [0x0xe422b8+94536]\n\tGetHandleVerifier [0x0xe42442+94930]\n\tGetHandleVerifier [0x0xe2d5ea+9338]\n\tBaseThreadInitThunk [0x0x76cf5d49+25]\n\tRtlInitializeExceptionChain [0x0x779fd2fb+107]\n\tRtlGetAppContainerNamedObjectPath [0x0x779fd281+561]\n",
     "output_type": "error",
     "traceback": [
      "\u001b[1;31m---------------------------------------------------------------------------\u001b[0m",
      "\u001b[1;31mInvalidArgumentException\u001b[0m                  Traceback (most recent call last)",
      "Cell \u001b[1;32mIn[18], line 15\u001b[0m\n\u001b[0;32m     12\u001b[0m out_dir \u001b[38;5;241m=\u001b[39m PROJECT_ROOT \u001b[38;5;241m/\u001b[39m \u001b[38;5;124m\"\u001b[39m\u001b[38;5;124mdata\u001b[39m\u001b[38;5;124m\"\u001b[39m \u001b[38;5;241m/\u001b[39m \u001b[38;5;124m\"\u001b[39m\u001b[38;5;124mraw\u001b[39m\u001b[38;5;124m\"\u001b[39m \u001b[38;5;241m/\u001b[39m \u001b[38;5;124m\"\u001b[39m\u001b[38;5;124mfixtures\u001b[39m\u001b[38;5;124m\"\u001b[39m\n\u001b[0;32m     14\u001b[0m driver \u001b[38;5;241m=\u001b[39m make_driver(use_uc\u001b[38;5;241m=\u001b[39m\u001b[38;5;28;01mTrue\u001b[39;00m, headless\u001b[38;5;241m=\u001b[39m\u001b[38;5;28;01mFalse\u001b[39;00m)\n\u001b[1;32m---> 15\u001b[0m df_fixtures \u001b[38;5;241m=\u001b[39m \u001b[43mscrape_range_finished\u001b[49m\u001b[43m(\u001b[49m\u001b[43mdriver\u001b[49m\u001b[43m,\u001b[49m\u001b[43m \u001b[49m\u001b[43mstart_date\u001b[49m\u001b[43m,\u001b[49m\u001b[43m \u001b[49m\u001b[43mend_date\u001b[49m\u001b[43m,\u001b[49m\u001b[43m \u001b[49m\u001b[43mout_dir\u001b[49m\u001b[43m,\u001b[49m\n\u001b[0;32m     16\u001b[0m \u001b[43m                                    \u001b[49m\u001b[43mcomp_slug\u001b[49m\u001b[38;5;241;43m=\u001b[39;49m\u001b[43mCOMP_SLUG\u001b[49m\u001b[43m,\u001b[49m\u001b[43m \u001b[49m\u001b[43mseason_slug\u001b[49m\u001b[38;5;241;43m=\u001b[39;49m\u001b[43mSEASON_SLUG\u001b[49m\u001b[43m,\u001b[49m\u001b[43m \u001b[49m\u001b[43msave_json\u001b[49m\u001b[38;5;241;43m=\u001b[39;49m\u001b[38;5;28;43;01mTrue\u001b[39;49;00m\u001b[43m,\u001b[49m\u001b[43m \u001b[49m\u001b[43mfixtures_url\u001b[49m\u001b[38;5;241;43m=\u001b[39;49m\u001b[38;5;28;43;01mNone\u001b[39;49;00m\u001b[43m)\u001b[49m\n\u001b[0;32m     17\u001b[0m driver\u001b[38;5;241m.\u001b[39mquit()\n\u001b[0;32m     19\u001b[0m df_fixtures\u001b[38;5;241m.\u001b[39mhead()\n",
      "File \u001b[1;32m~\\OneDrive\\Escritorio\\Proyecto WhoScored\\src\\whoscored_viz\\whoscored_fixtures.py:547\u001b[0m, in \u001b[0;36mscrape_range_finished\u001b[1;34m(driver, start_date, end_date, out_dir, comp_slug, season_slug, save_json, fixtures_url)\u001b[0m\n\u001b[0;32m    545\u001b[0m \u001b[38;5;28;01mfor\u001b[39;00m y, m \u001b[38;5;129;01min\u001b[39;00m months_between(start_date, end_date):\n\u001b[0;32m    546\u001b[0m     mlab \u001b[38;5;241m=\u001b[39m month_label_from_year_month(y, m)  \u001b[38;5;66;03m# 'sep 2025', etc.\u001b[39;00m\n\u001b[1;32m--> 547\u001b[0m     \u001b[43mopen_fixtures\u001b[49m\u001b[43m(\u001b[49m\u001b[43mdriver\u001b[49m\u001b[43m,\u001b[49m\u001b[43m \u001b[49m\u001b[43mfixtures_url\u001b[49m\u001b[43m)\u001b[49m\n\u001b[0;32m    548\u001b[0m     open_calendar(driver)\n\u001b[0;32m    549\u001b[0m     select_month(driver, mlab)\n",
      "File \u001b[1;32m~\\OneDrive\\Escritorio\\Proyecto WhoScored\\src\\whoscored_viz\\whoscored_fixtures.py:176\u001b[0m, in \u001b[0;36mopen_fixtures\u001b[1;34m(driver, fixtures_url)\u001b[0m\n\u001b[0;32m    175\u001b[0m \u001b[38;5;28;01mdef\u001b[39;00m\u001b[38;5;250m \u001b[39m\u001b[38;5;21mopen_fixtures\u001b[39m(driver, fixtures_url\u001b[38;5;241m=\u001b[39mFIXTURES_URL):\n\u001b[1;32m--> 176\u001b[0m     \u001b[43mdriver\u001b[49m\u001b[38;5;241;43m.\u001b[39;49m\u001b[43mget\u001b[49m\u001b[43m(\u001b[49m\u001b[43mfixtures_url\u001b[49m\u001b[43m)\u001b[49m\n\u001b[0;32m    177\u001b[0m     W(driver, \u001b[38;5;241m25\u001b[39m)\u001b[38;5;241m.\u001b[39muntil(EC\u001b[38;5;241m.\u001b[39mpresence_of_element_located((By\u001b[38;5;241m.\u001b[39mCSS_SELECTOR, \u001b[38;5;124m'\u001b[39m\u001b[38;5;124mdiv[class^=\u001b[39m\u001b[38;5;124m\"\u001b[39m\u001b[38;5;124mAccordion-module_accordion\u001b[39m\u001b[38;5;124m\"\u001b[39m\u001b[38;5;124m]\u001b[39m\u001b[38;5;124m'\u001b[39m)))\n\u001b[0;32m    178\u001b[0m     accept_quantcast_if_present(driver)\n",
      "File \u001b[1;32mc:\\Users\\manue\\OneDrive\\Escritorio\\Proyecto WhoScored\\.venv\\lib\\site-packages\\selenium\\webdriver\\remote\\webdriver.py:483\u001b[0m, in \u001b[0;36mWebDriver.get\u001b[1;34m(self, url)\u001b[0m\n\u001b[0;32m    465\u001b[0m \u001b[38;5;28;01mdef\u001b[39;00m\u001b[38;5;250m \u001b[39m\u001b[38;5;21mget\u001b[39m(\u001b[38;5;28mself\u001b[39m, url: \u001b[38;5;28mstr\u001b[39m) \u001b[38;5;241m-\u001b[39m\u001b[38;5;241m>\u001b[39m \u001b[38;5;28;01mNone\u001b[39;00m:\n\u001b[0;32m    466\u001b[0m \u001b[38;5;250m    \u001b[39m\u001b[38;5;124;03m\"\"\"Navigate the browser to the specified URL in the current window or\u001b[39;00m\n\u001b[0;32m    467\u001b[0m \u001b[38;5;124;03m    tab.\u001b[39;00m\n\u001b[0;32m    468\u001b[0m \n\u001b[1;32m   (...)\u001b[0m\n\u001b[0;32m    481\u001b[0m \u001b[38;5;124;03m    >>> driver.get(\"https://example.com\")\u001b[39;00m\n\u001b[0;32m    482\u001b[0m \u001b[38;5;124;03m    \"\"\"\u001b[39;00m\n\u001b[1;32m--> 483\u001b[0m     \u001b[38;5;28;43mself\u001b[39;49m\u001b[38;5;241;43m.\u001b[39;49m\u001b[43mexecute\u001b[49m\u001b[43m(\u001b[49m\u001b[43mCommand\u001b[49m\u001b[38;5;241;43m.\u001b[39;49m\u001b[43mGET\u001b[49m\u001b[43m,\u001b[49m\u001b[43m \u001b[49m\u001b[43m{\u001b[49m\u001b[38;5;124;43m\"\u001b[39;49m\u001b[38;5;124;43murl\u001b[39;49m\u001b[38;5;124;43m\"\u001b[39;49m\u001b[43m:\u001b[49m\u001b[43m \u001b[49m\u001b[43murl\u001b[49m\u001b[43m}\u001b[49m\u001b[43m)\u001b[49m\n",
      "File \u001b[1;32mc:\\Users\\manue\\OneDrive\\Escritorio\\Proyecto WhoScored\\.venv\\lib\\site-packages\\selenium\\webdriver\\remote\\webdriver.py:458\u001b[0m, in \u001b[0;36mWebDriver.execute\u001b[1;34m(self, driver_command, params)\u001b[0m\n\u001b[0;32m    455\u001b[0m response \u001b[38;5;241m=\u001b[39m cast(RemoteConnection, \u001b[38;5;28mself\u001b[39m\u001b[38;5;241m.\u001b[39mcommand_executor)\u001b[38;5;241m.\u001b[39mexecute(driver_command, params)\n\u001b[0;32m    457\u001b[0m \u001b[38;5;28;01mif\u001b[39;00m response:\n\u001b[1;32m--> 458\u001b[0m     \u001b[38;5;28;43mself\u001b[39;49m\u001b[38;5;241;43m.\u001b[39;49m\u001b[43merror_handler\u001b[49m\u001b[38;5;241;43m.\u001b[39;49m\u001b[43mcheck_response\u001b[49m\u001b[43m(\u001b[49m\u001b[43mresponse\u001b[49m\u001b[43m)\u001b[49m\n\u001b[0;32m    459\u001b[0m     response[\u001b[38;5;124m\"\u001b[39m\u001b[38;5;124mvalue\u001b[39m\u001b[38;5;124m\"\u001b[39m] \u001b[38;5;241m=\u001b[39m \u001b[38;5;28mself\u001b[39m\u001b[38;5;241m.\u001b[39m_unwrap_value(response\u001b[38;5;241m.\u001b[39mget(\u001b[38;5;124m\"\u001b[39m\u001b[38;5;124mvalue\u001b[39m\u001b[38;5;124m\"\u001b[39m, \u001b[38;5;28;01mNone\u001b[39;00m))\n\u001b[0;32m    460\u001b[0m     \u001b[38;5;28;01mreturn\u001b[39;00m response\n",
      "File \u001b[1;32mc:\\Users\\manue\\OneDrive\\Escritorio\\Proyecto WhoScored\\.venv\\lib\\site-packages\\selenium\\webdriver\\remote\\errorhandler.py:232\u001b[0m, in \u001b[0;36mErrorHandler.check_response\u001b[1;34m(self, response)\u001b[0m\n\u001b[0;32m    230\u001b[0m         alert_text \u001b[38;5;241m=\u001b[39m value[\u001b[38;5;124m\"\u001b[39m\u001b[38;5;124malert\u001b[39m\u001b[38;5;124m\"\u001b[39m]\u001b[38;5;241m.\u001b[39mget(\u001b[38;5;124m\"\u001b[39m\u001b[38;5;124mtext\u001b[39m\u001b[38;5;124m\"\u001b[39m)\n\u001b[0;32m    231\u001b[0m     \u001b[38;5;28;01mraise\u001b[39;00m exception_class(message, screen, stacktrace, alert_text)  \u001b[38;5;66;03m# type: ignore[call-arg]  # mypy is not smart enough here\u001b[39;00m\n\u001b[1;32m--> 232\u001b[0m \u001b[38;5;28;01mraise\u001b[39;00m exception_class(message, screen, stacktrace)\n",
      "\u001b[1;31mInvalidArgumentException\u001b[0m: Message: invalid argument: 'url' must be a string\n  (Session info: chrome=139.0.7258.155)\nStacktrace:\n\tGetHandleVerifier [0x0xe3a8a3+63283]\n\tGetHandleVerifier [0x0xe3a8e4+63348]\n\t(No symbol) [0x0xc73e43]\n\t(No symbol) [0x0xd033ae]\n\t(No symbol) [0x0xce141c]\n\t(No symbol) [0x0xd0271a]\n\t(No symbol) [0x0xce1216]\n\t(No symbol) [0x0xcb0855]\n\t(No symbol) [0x0xcb16f4]\n\tGetHandleVerifier [0x0x10abb43+2623955]\n\tGetHandleVerifier [0x0x10a6daa+2604090]\n\tGetHandleVerifier [0x0xe6069a+218410]\n\tGetHandleVerifier [0x0xe50ed8+154984]\n\tGetHandleVerifier [0x0xe5742d+180925]\n\tGetHandleVerifier [0x0xe422b8+94536]\n\tGetHandleVerifier [0x0xe42442+94930]\n\tGetHandleVerifier [0x0xe2d5ea+9338]\n\tBaseThreadInitThunk [0x0x76cf5d49+25]\n\tRtlInitializeExceptionChain [0x0x779fd2fb+107]\n\tRtlGetAppContainerNamedObjectPath [0x0x779fd281+561]\n"
     ]
    }
   ],
   "source": [
    "from datetime import date\n",
    "from pathlib import Path\n",
    "from whoscored_viz.whoscored_fixtures import make_driver, scrape_range_finished\n",
    "\n",
    "COMP_SLUG   = \"laliga\"\n",
    "SEASON_SLUG = \"2025-2026\"\n",
    "\n",
    "start_date = date(2025, 8, 1)\n",
    "end_date   = date(2025, 8, 31)\n",
    "\n",
    "PROJECT_ROOT = Path.cwd().resolve()\n",
    "out_dir = PROJECT_ROOT / \"data\" / \"raw\" / \"fixtures\"\n",
    "\n",
    "driver = make_driver(use_uc=True, headless=False)\n",
    "df_fixtures = scrape_range_finished(driver, start_date, end_date, out_dir,\n",
    "                                    comp_slug=COMP_SLUG, season_slug=SEASON_SLUG, save_json=True, fixtures_url=None)\n",
    "driver.quit()\n",
    "\n",
    "df_fixtures.head()\n"
   ]
  },
  {
   "cell_type": "code",
   "execution_count": 1,
   "id": "73153360",
   "metadata": {},
   "outputs": [
    {
     "name": "stdout",
     "output_type": "stream",
     "text": [
      "Fixtures CSV → c:\\Users\\manue\\OneDrive\\Escritorio\\Proyecto WhoScored\\data\\raw\\fixtures\\DataFixtures\\laliga\\2025-2026\\range_20250801_20250831\\finished_matches.csv\n"
     ]
    },
    {
     "data": {
      "application/vnd.microsoft.datawrangler.viewer.v0+json": {
       "columns": [
        {
         "name": "index",
         "rawType": "int64",
         "type": "integer"
        },
        {
         "name": "match_date",
         "rawType": "object",
         "type": "string"
        },
        {
         "name": "start_time",
         "rawType": "object",
         "type": "string"
        },
        {
         "name": "home_name",
         "rawType": "object",
         "type": "string"
        },
        {
         "name": "away_name",
         "rawType": "object",
         "type": "string"
        },
        {
         "name": "match_id",
         "rawType": "int64",
         "type": "integer"
        },
        {
         "name": "match_centre_url",
         "rawType": "object",
         "type": "string"
        },
        {
         "name": "score_home",
         "rawType": "int64",
         "type": "integer"
        },
        {
         "name": "score_away",
         "rawType": "int64",
         "type": "integer"
        },
        {
         "name": "is_finished",
         "rawType": "bool",
         "type": "boolean"
        }
       ],
       "ref": "8a77ba53-4a4c-4abd-85b2-3c310135ade3",
       "rows": [
        [
         "0",
         "2025-08-15",
         "19:00",
         "Girona",
         "Rayo Vallecano",
         "1913916",
         "https://es.whoscored.com/Matches/1913916/Live",
         "1",
         "3",
         "True"
        ],
        [
         "1",
         "2025-08-15",
         "21:30",
         "Villarreal",
         "Real Oviedo",
         "1913892",
         "https://es.whoscored.com/Matches/1913892/Live",
         "2",
         "0",
         "True"
        ],
        [
         "2",
         "2025-08-16",
         "19:30",
         "Mallorca",
         "Barcelona",
         "1913918",
         "https://es.whoscored.com/Matches/1913918/Live",
         "0",
         "3",
         "True"
        ]
       ],
       "shape": {
        "columns": 9,
        "rows": 3
       }
      },
      "text/html": [
       "<div>\n",
       "<style scoped>\n",
       "    .dataframe tbody tr th:only-of-type {\n",
       "        vertical-align: middle;\n",
       "    }\n",
       "\n",
       "    .dataframe tbody tr th {\n",
       "        vertical-align: top;\n",
       "    }\n",
       "\n",
       "    .dataframe thead th {\n",
       "        text-align: right;\n",
       "    }\n",
       "</style>\n",
       "<table border=\"1\" class=\"dataframe\">\n",
       "  <thead>\n",
       "    <tr style=\"text-align: right;\">\n",
       "      <th></th>\n",
       "      <th>match_date</th>\n",
       "      <th>start_time</th>\n",
       "      <th>home_name</th>\n",
       "      <th>away_name</th>\n",
       "      <th>match_id</th>\n",
       "      <th>match_centre_url</th>\n",
       "      <th>score_home</th>\n",
       "      <th>score_away</th>\n",
       "      <th>is_finished</th>\n",
       "    </tr>\n",
       "  </thead>\n",
       "  <tbody>\n",
       "    <tr>\n",
       "      <th>0</th>\n",
       "      <td>2025-08-15</td>\n",
       "      <td>19:00</td>\n",
       "      <td>Girona</td>\n",
       "      <td>Rayo Vallecano</td>\n",
       "      <td>1913916</td>\n",
       "      <td>https://es.whoscored.com/Matches/1913916/Live</td>\n",
       "      <td>1</td>\n",
       "      <td>3</td>\n",
       "      <td>True</td>\n",
       "    </tr>\n",
       "    <tr>\n",
       "      <th>1</th>\n",
       "      <td>2025-08-15</td>\n",
       "      <td>21:30</td>\n",
       "      <td>Villarreal</td>\n",
       "      <td>Real Oviedo</td>\n",
       "      <td>1913892</td>\n",
       "      <td>https://es.whoscored.com/Matches/1913892/Live</td>\n",
       "      <td>2</td>\n",
       "      <td>0</td>\n",
       "      <td>True</td>\n",
       "    </tr>\n",
       "    <tr>\n",
       "      <th>2</th>\n",
       "      <td>2025-08-16</td>\n",
       "      <td>19:30</td>\n",
       "      <td>Mallorca</td>\n",
       "      <td>Barcelona</td>\n",
       "      <td>1913918</td>\n",
       "      <td>https://es.whoscored.com/Matches/1913918/Live</td>\n",
       "      <td>0</td>\n",
       "      <td>3</td>\n",
       "      <td>True</td>\n",
       "    </tr>\n",
       "  </tbody>\n",
       "</table>\n",
       "</div>"
      ],
      "text/plain": [
       "   match_date start_time   home_name       away_name  match_id  \\\n",
       "0  2025-08-15      19:00      Girona  Rayo Vallecano   1913916   \n",
       "1  2025-08-15      21:30  Villarreal     Real Oviedo   1913892   \n",
       "2  2025-08-16      19:30    Mallorca       Barcelona   1913918   \n",
       "\n",
       "                                match_centre_url  score_home  score_away  \\\n",
       "0  https://es.whoscored.com/Matches/1913916/Live           1           3   \n",
       "1  https://es.whoscored.com/Matches/1913892/Live           2           0   \n",
       "2  https://es.whoscored.com/Matches/1913918/Live           0           3   \n",
       "\n",
       "   is_finished  \n",
       "0         True  \n",
       "1         True  \n",
       "2         True  "
      ]
     },
     "execution_count": 1,
     "metadata": {},
     "output_type": "execute_result"
    }
   ],
   "source": [
    "from pathlib import Path\n",
    "import pandas as pd\n",
    "\n",
    "# Detectar raíz del proyecto (la carpeta que contiene 'src')\n",
    "def find_project_root(marker=\"src\", max_hops=7):\n",
    "    p = Path.cwd()\n",
    "    for _ in range(max_hops):\n",
    "        if (p / marker).exists():\n",
    "            return p\n",
    "        p = p.parent\n",
    "    raise RuntimeError(f\"No se encontró la raíz del proyecto desde {Path.cwd()}\")\n",
    "\n",
    "PROJECT_ROOT = find_project_root()\n",
    "DATA_DIR = PROJECT_ROOT / \"data\"\n",
    "\n",
    "# Busca el último finished_matches.csv generado dentro de data/raw/fixtures/DataFixtures/**/\n",
    "fixtures_root = DATA_DIR / \"raw\" / \"fixtures\" / \"DataFixtures\"\n",
    "csv_paths = sorted(fixtures_root.rglob(\"finished_matches.csv\"))\n",
    "assert csv_paths, \"No se encontró ningún finished_matches.csv. ¿Ejecutaste el Paso 2?\"\n",
    "fixtures_csv = csv_paths[-1]  # el más reciente\n",
    "\n",
    "df_fix = pd.read_csv(fixtures_csv)\n",
    "print(\"Fixtures CSV →\", fixtures_csv)\n",
    "df_fix.head(3)"
   ]
  }
 ],
 "metadata": {
  "kernelspec": {
   "display_name": ".venv",
   "language": "python",
   "name": "python3"
  },
  "language_info": {
   "codemirror_mode": {
    "name": "ipython",
    "version": 3
   },
   "file_extension": ".py",
   "mimetype": "text/x-python",
   "name": "python",
   "nbconvert_exporter": "python",
   "pygments_lexer": "ipython3",
   "version": "3.10.11"
  }
 },
 "nbformat": 4,
 "nbformat_minor": 5
}
