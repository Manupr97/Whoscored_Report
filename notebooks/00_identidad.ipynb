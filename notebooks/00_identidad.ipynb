{
 "cells": [
  {
   "cell_type": "code",
   "execution_count": 1,
   "id": "729c473f",
   "metadata": {},
   "outputs": [
    {
     "name": "stdout",
     "output_type": "stream",
     "text": [
      "SRC en sys.path: True\n"
     ]
    }
   ],
   "source": [
    "import sys\n",
    "from pathlib import Path\n",
    "\n",
    "# Ruta raíz del repo\n",
    "REPO_ROOT = Path(r\"C:\\Users\\manue\\OneDrive\\Escritorio\\Proyecto WhoScored\")\n",
    "SRC = REPO_ROOT / \"src\"\n",
    "\n",
    "if str(SRC) not in sys.path:\n",
    "    sys.path.insert(0, str(SRC))\n",
    "\n",
    "print(\"SRC en sys.path:\", SRC in map(Path, sys.path))"
   ]
  },
  {
   "cell_type": "code",
   "execution_count": 2,
   "id": "ce81e2b9",
   "metadata": {},
   "outputs": [
    {
     "name": "stdout",
     "output_type": "stream",
     "text": [
      "[paths.py] PROJECT_ROOT: c:\\Users\\manue\\OneDrive\\Escritorio\\Proyecto WhoScored\n",
      "[paths.py] BASE_DATA_DIR: C:\\Users\\manue\\OneDrive\\Escritorio\\Proyecto WhoScored\\data\n",
      "[BASE_DIR] C:\\Users\\manue\\OneDrive\\Escritorio\\Proyecto WhoScored\\data\\raw\\matchcenter\\MatchCenter | exists: True\n",
      "[ESCUDOS_DIR] C:\\Users\\manue\\OneDrive\\Escritorio\\Proyecto WhoScored\\assets\\Escudos\\LaLiga | exists: True\n",
      "[OUT_DIR] C:\\Users\\manue\\OneDrive\\Escritorio\\Proyecto WhoScored\\data\\dictionaries\n",
      "[TEAM_CSV] C:\\Users\\manue\\OneDrive\\Escritorio\\Proyecto WhoScored\\data\\dictionaries\\team_identity.csv\n",
      "[PLAYERS_CSV] C:\\Users\\manue\\OneDrive\\Escritorio\\Proyecto WhoScored\\data\\dictionaries\\players_master.csv\n"
     ]
    }
   ],
   "source": [
    "from pathlib import Path\n",
    "from whoscored_viz import paths\n",
    "\n",
    "# Donde están los partidos (carpeta MatchCenter)\n",
    "paths.BASE_DIR = Path(r\"C:\\Users\\manue\\OneDrive\\Escritorio\\Proyecto WhoScored\\data\\raw\\matchcenter\\MatchCenter\")\n",
    "\n",
    "# Donde están los escudos de LaLiga\n",
    "paths.ESCUDOS_DIR = Path(r\"C:\\Users\\manue\\OneDrive\\Escritorio\\Proyecto WhoScored\\assets\\Escudos\\LaLiga\")\n",
    "\n",
    "# Salida de diccionarios (si quieres otra, cámbiala aquí)\n",
    "paths.OUT_DIR = REPO_ROOT / r\"data\\dictionaries\"\n",
    "paths.OUT_DIR.mkdir(parents=True, exist_ok=True)\n",
    "\n",
    "print(\"[BASE_DIR]\", paths.BASE_DIR, \"| exists:\", paths.BASE_DIR.exists())\n",
    "print(\"[ESCUDOS_DIR]\", paths.ESCUDOS_DIR, \"| exists:\", paths.ESCUDOS_DIR.exists())\n",
    "print(\"[OUT_DIR]\", paths.OUT_DIR)\n",
    "\n",
    "print(\"[TEAM_CSV]\", paths.TEAM_CSV)\n",
    "print(\"[PLAYERS_CSV]\", paths.PLAYERS_CSV)"
   ]
  },
  {
   "cell_type": "code",
   "execution_count": 3,
   "id": "6059b83b",
   "metadata": {},
   "outputs": [
    {
     "name": "stdout",
     "output_type": "stream",
     "text": [
      "match_meta.csv encontrados: 31\n",
      "players.csv encontrados: 31\n",
      " - C:\\Users\\manue\\OneDrive\\Escritorio\\Proyecto WhoScored\\data\\raw\\matchcenter\\MatchCenter\\Competition\\Season\\20250815_Girona_vs_Rayo_Vallecano_1913916\\csv\\match_meta.csv\n",
      " - C:\\Users\\manue\\OneDrive\\Escritorio\\Proyecto WhoScored\\data\\raw\\matchcenter\\MatchCenter\\Competition\\Season\\20250815_Villarreal_vs_Real_Oviedo_1913892\\csv\\match_meta.csv\n",
      " - C:\\Users\\manue\\OneDrive\\Escritorio\\Proyecto WhoScored\\data\\raw\\matchcenter\\MatchCenter\\Competition\\Season\\20250816_Deportivo_Alaves_vs_Levante_1913913\\csv\\match_meta.csv\n",
      " - C:\\Users\\manue\\OneDrive\\Escritorio\\Proyecto WhoScored\\data\\raw\\matchcenter\\MatchCenter\\Competition\\Season\\20250816_Mallorca_vs_Barcelona_1913918\\csv\\match_meta.csv\n",
      " - C:\\Users\\manue\\OneDrive\\Escritorio\\Proyecto WhoScored\\data\\raw\\matchcenter\\MatchCenter\\Competition\\Season\\20250816_Valencia_vs_Real_Sociedad_1913889\\csv\\match_meta.csv\n"
     ]
    }
   ],
   "source": [
    "# ¿Cuántos partidos detecta?\n",
    "found_meta = list(paths.BASE_DIR.rglob(\"csv/match_meta.csv\"))\n",
    "found_players = list(paths.BASE_DIR.rglob(\"csv/players.csv\"))\n",
    "print(\"match_meta.csv encontrados:\", len(found_meta))\n",
    "print(\"players.csv encontrados:\", len(found_players))\n",
    "for p in found_meta[:5]:\n",
    "    print(\" -\", p)"
   ]
  },
  {
   "cell_type": "code",
   "execution_count": 4,
   "id": "2be078ed",
   "metadata": {},
   "outputs": [
    {
     "name": "stdout",
     "output_type": "stream",
     "text": [
      "[WARN] builder oficial falló → uso fallback notebook. No se pudieron extraer equipos de CSV/JSON.\n",
      "Equipos únicos: 20  → C:\\Users\\manue\\OneDrive\\Escritorio\\Proyecto WhoScored\\data\\dictionaries\\team_identity.csv\n"
     ]
    },
    {
     "data": {
      "application/vnd.microsoft.datawrangler.viewer.v0+json": {
       "columns": [
        {
         "name": "index",
         "rawType": "int64",
         "type": "integer"
        },
        {
         "name": "team_id",
         "rawType": "int64",
         "type": "integer"
        },
        {
         "name": "team_name",
         "rawType": "object",
         "type": "string"
        },
        {
         "name": "slug",
         "rawType": "object",
         "type": "string"
        },
        {
         "name": "logo_path",
         "rawType": "object",
         "type": "string"
        },
        {
         "name": "primary",
         "rawType": "object",
         "type": "string"
        },
        {
         "name": "secondary",
         "rawType": "object",
         "type": "string"
        }
       ],
       "ref": "0600c0c9-44fc-4748-a982-beca77022e52",
       "rows": [
        [
         "0",
         "51",
         "Mallorca",
         "mallorca",
         "C:\\Users\\manue\\OneDrive\\Escritorio\\Proyecto WhoScored\\assets\\Escudos\\LaLiga\\mallorca.png",
         "#D00000",
         "#1A1A1A"
        ],
        [
         "1",
         "52",
         "Real Madrid",
         "realmadrid",
         "C:\\Users\\manue\\OneDrive\\Escritorio\\Proyecto WhoScored\\assets\\Escudos\\LaLiga\\realmadrid.png",
         "#FFFFFF",
         "#1D1D1B"
        ],
        [
         "2",
         "53",
         "Athletic Club",
         "athletic",
         "C:\\Users\\manue\\OneDrive\\Escritorio\\Proyecto WhoScored\\assets\\Escudos\\LaLiga\\athletic.png",
         "#D00027",
         "#1A1A1A"
        ],
        [
         "3",
         "54",
         "Real Betis",
         "betis",
         "C:\\Users\\manue\\OneDrive\\Escritorio\\Proyecto WhoScored\\assets\\Escudos\\LaLiga\\betis.png",
         "#009E49",
         "#FFFFFF"
        ],
        [
         "4",
         "55",
         "Valencia",
         "valencia",
         "C:\\Users\\manue\\OneDrive\\Escritorio\\Proyecto WhoScored\\assets\\Escudos\\LaLiga\\valencia.png",
         "#FF7900",
         "#000000"
        ],
        [
         "5",
         "60",
         "Deportivo Alaves",
         "alaves",
         "C:\\Users\\manue\\OneDrive\\Escritorio\\Proyecto WhoScored\\assets\\Escudos\\LaLiga\\alaves.png",
         "#003DA5",
         "#FFFFFF"
        ],
        [
         "6",
         "61",
         "Real Oviedo",
         "realoviedo",
         "C:\\Users\\manue\\OneDrive\\Escritorio\\Proyecto WhoScored\\assets\\Escudos\\LaLiga\\realoviedo.png",
         "#0057B8",
         "#FFD100"
        ],
        [
         "7",
         "62",
         "Celta Vigo",
         "celta",
         "C:\\Users\\manue\\OneDrive\\Escritorio\\Proyecto WhoScored\\assets\\Escudos\\LaLiga\\celta.png",
         "#8EC6E8",
         "#E30613"
        ],
        [
         "8",
         "63",
         "Atletico",
         "atlmadrid",
         "C:\\Users\\manue\\OneDrive\\Escritorio\\Proyecto WhoScored\\assets\\Escudos\\LaLiga\\atlmadrid.png",
         "#D20A11",
         "#1B3D8E"
        ],
        [
         "9",
         "64",
         "Rayo Vallecano",
         "rayovallecano",
         "C:\\Users\\manue\\OneDrive\\Escritorio\\Proyecto WhoScored\\assets\\Escudos\\LaLiga\\rayovallecano.png",
         "#E30613",
         "#FFFFFF"
        ]
       ],
       "shape": {
        "columns": 6,
        "rows": 10
       }
      },
      "text/html": [
       "<div>\n",
       "<style scoped>\n",
       "    .dataframe tbody tr th:only-of-type {\n",
       "        vertical-align: middle;\n",
       "    }\n",
       "\n",
       "    .dataframe tbody tr th {\n",
       "        vertical-align: top;\n",
       "    }\n",
       "\n",
       "    .dataframe thead th {\n",
       "        text-align: right;\n",
       "    }\n",
       "</style>\n",
       "<table border=\"1\" class=\"dataframe\">\n",
       "  <thead>\n",
       "    <tr style=\"text-align: right;\">\n",
       "      <th></th>\n",
       "      <th>team_id</th>\n",
       "      <th>team_name</th>\n",
       "      <th>slug</th>\n",
       "      <th>logo_path</th>\n",
       "      <th>primary</th>\n",
       "      <th>secondary</th>\n",
       "    </tr>\n",
       "  </thead>\n",
       "  <tbody>\n",
       "    <tr>\n",
       "      <th>0</th>\n",
       "      <td>51</td>\n",
       "      <td>Mallorca</td>\n",
       "      <td>mallorca</td>\n",
       "      <td>C:\\Users\\manue\\OneDrive\\Escritorio\\Proyecto Wh...</td>\n",
       "      <td>#D00000</td>\n",
       "      <td>#1A1A1A</td>\n",
       "    </tr>\n",
       "    <tr>\n",
       "      <th>1</th>\n",
       "      <td>52</td>\n",
       "      <td>Real Madrid</td>\n",
       "      <td>realmadrid</td>\n",
       "      <td>C:\\Users\\manue\\OneDrive\\Escritorio\\Proyecto Wh...</td>\n",
       "      <td>#FFFFFF</td>\n",
       "      <td>#1D1D1B</td>\n",
       "    </tr>\n",
       "    <tr>\n",
       "      <th>2</th>\n",
       "      <td>53</td>\n",
       "      <td>Athletic Club</td>\n",
       "      <td>athletic</td>\n",
       "      <td>C:\\Users\\manue\\OneDrive\\Escritorio\\Proyecto Wh...</td>\n",
       "      <td>#D00027</td>\n",
       "      <td>#1A1A1A</td>\n",
       "    </tr>\n",
       "    <tr>\n",
       "      <th>3</th>\n",
       "      <td>54</td>\n",
       "      <td>Real Betis</td>\n",
       "      <td>betis</td>\n",
       "      <td>C:\\Users\\manue\\OneDrive\\Escritorio\\Proyecto Wh...</td>\n",
       "      <td>#009E49</td>\n",
       "      <td>#FFFFFF</td>\n",
       "    </tr>\n",
       "    <tr>\n",
       "      <th>4</th>\n",
       "      <td>55</td>\n",
       "      <td>Valencia</td>\n",
       "      <td>valencia</td>\n",
       "      <td>C:\\Users\\manue\\OneDrive\\Escritorio\\Proyecto Wh...</td>\n",
       "      <td>#FF7900</td>\n",
       "      <td>#000000</td>\n",
       "    </tr>\n",
       "    <tr>\n",
       "      <th>5</th>\n",
       "      <td>60</td>\n",
       "      <td>Deportivo Alaves</td>\n",
       "      <td>alaves</td>\n",
       "      <td>C:\\Users\\manue\\OneDrive\\Escritorio\\Proyecto Wh...</td>\n",
       "      <td>#003DA5</td>\n",
       "      <td>#FFFFFF</td>\n",
       "    </tr>\n",
       "    <tr>\n",
       "      <th>6</th>\n",
       "      <td>61</td>\n",
       "      <td>Real Oviedo</td>\n",
       "      <td>realoviedo</td>\n",
       "      <td>C:\\Users\\manue\\OneDrive\\Escritorio\\Proyecto Wh...</td>\n",
       "      <td>#0057B8</td>\n",
       "      <td>#FFD100</td>\n",
       "    </tr>\n",
       "    <tr>\n",
       "      <th>7</th>\n",
       "      <td>62</td>\n",
       "      <td>Celta Vigo</td>\n",
       "      <td>celta</td>\n",
       "      <td>C:\\Users\\manue\\OneDrive\\Escritorio\\Proyecto Wh...</td>\n",
       "      <td>#8EC6E8</td>\n",
       "      <td>#E30613</td>\n",
       "    </tr>\n",
       "    <tr>\n",
       "      <th>8</th>\n",
       "      <td>63</td>\n",
       "      <td>Atletico</td>\n",
       "      <td>atlmadrid</td>\n",
       "      <td>C:\\Users\\manue\\OneDrive\\Escritorio\\Proyecto Wh...</td>\n",
       "      <td>#D20A11</td>\n",
       "      <td>#1B3D8E</td>\n",
       "    </tr>\n",
       "    <tr>\n",
       "      <th>9</th>\n",
       "      <td>64</td>\n",
       "      <td>Rayo Vallecano</td>\n",
       "      <td>rayovallecano</td>\n",
       "      <td>C:\\Users\\manue\\OneDrive\\Escritorio\\Proyecto Wh...</td>\n",
       "      <td>#E30613</td>\n",
       "      <td>#FFFFFF</td>\n",
       "    </tr>\n",
       "  </tbody>\n",
       "</table>\n",
       "</div>"
      ],
      "text/plain": [
       "   team_id         team_name           slug  \\\n",
       "0       51          Mallorca       mallorca   \n",
       "1       52       Real Madrid     realmadrid   \n",
       "2       53     Athletic Club       athletic   \n",
       "3       54        Real Betis          betis   \n",
       "4       55          Valencia       valencia   \n",
       "5       60  Deportivo Alaves         alaves   \n",
       "6       61       Real Oviedo     realoviedo   \n",
       "7       62        Celta Vigo          celta   \n",
       "8       63          Atletico      atlmadrid   \n",
       "9       64    Rayo Vallecano  rayovallecano   \n",
       "\n",
       "                                           logo_path  primary secondary  \n",
       "0  C:\\Users\\manue\\OneDrive\\Escritorio\\Proyecto Wh...  #D00000   #1A1A1A  \n",
       "1  C:\\Users\\manue\\OneDrive\\Escritorio\\Proyecto Wh...  #FFFFFF   #1D1D1B  \n",
       "2  C:\\Users\\manue\\OneDrive\\Escritorio\\Proyecto Wh...  #D00027   #1A1A1A  \n",
       "3  C:\\Users\\manue\\OneDrive\\Escritorio\\Proyecto Wh...  #009E49   #FFFFFF  \n",
       "4  C:\\Users\\manue\\OneDrive\\Escritorio\\Proyecto Wh...  #FF7900   #000000  \n",
       "5  C:\\Users\\manue\\OneDrive\\Escritorio\\Proyecto Wh...  #003DA5   #FFFFFF  \n",
       "6  C:\\Users\\manue\\OneDrive\\Escritorio\\Proyecto Wh...  #0057B8   #FFD100  \n",
       "7  C:\\Users\\manue\\OneDrive\\Escritorio\\Proyecto Wh...  #8EC6E8   #E30613  \n",
       "8  C:\\Users\\manue\\OneDrive\\Escritorio\\Proyecto Wh...  #D20A11   #1B3D8E  \n",
       "9  C:\\Users\\manue\\OneDrive\\Escritorio\\Proyecto Wh...  #E30613   #FFFFFF  "
      ]
     },
     "execution_count": 4,
     "metadata": {},
     "output_type": "execute_result"
    }
   ],
   "source": [
    "import pandas as pd\n",
    "from whoscored_viz import dictionaries\n",
    "from whoscored_viz.utils_io import read_csv_safe\n",
    "\n",
    "# --- Fallback local solo notebook (por si tu build_team_dictionary oficial falla).\n",
    "# Lee directamente todos los match_meta.csv con tus helpers (slug, resolve_logo_path, colors).\n",
    "def build_team_dictionary_notebook(max_matches: int = 50) -> pd.DataFrame:\n",
    "    rows = []\n",
    "    from whoscored_viz.dictionaries import slug_from_teamname, resolve_logo_path, TEAM_COLORS_BY_ID\n",
    "    metas = list(paths.BASE_DIR.rglob(\"csv/match_meta.csv\"))[:max_matches]\n",
    "    for meta_csv in metas:\n",
    "        mm = read_csv_safe(meta_csv)\n",
    "        if mm is None or mm.empty:\n",
    "            continue\n",
    "        cols = {c.strip().lower(): c for c in mm.columns}\n",
    "        def col(*names):\n",
    "            for n in names:\n",
    "                if n in cols:\n",
    "                    return cols[n]\n",
    "        hid = col(\"home_team_id\",\"home_id\",\"hometeamid\")\n",
    "        hnm = col(\"home_name\",\"home_team_name\",\"hometeamname\",\"home\")\n",
    "        aid = col(\"away_team_id\",\"away_id\",\"awayteamid\")\n",
    "        anm = col(\"away_name\",\"away_team_name\",\"awayteamname\",\"away\")\n",
    "        if not all([hid, hnm, aid, anm]):\n",
    "            continue\n",
    "        for tid, tnm in [\n",
    "            (int(mm.iloc[0][hid]), str(mm.iloc[0][hnm])),\n",
    "            (int(mm.iloc[0][aid]), str(mm.iloc[0][anm])),\n",
    "        ]:\n",
    "            slug = slug_from_teamname(tnm)\n",
    "            colors = TEAM_COLORS_BY_ID.get(tid, {})\n",
    "            rows.append({\n",
    "                \"team_id\":  tid,\n",
    "                \"team_name\": tnm,\n",
    "                \"slug\": slug,\n",
    "                \"logo_path\": dictionaries.resolve_logo_path(slug) or \"\",\n",
    "                \"primary\":  colors.get(\"primary\",\"\"),\n",
    "                \"secondary\":colors.get(\"secondary\",\"\"),\n",
    "            })\n",
    "    df = (pd.DataFrame(rows)\n",
    "            .drop_duplicates(\"team_id\")\n",
    "            .sort_values(\"team_id\")\n",
    "            .reset_index(drop=True))\n",
    "    df.to_csv(paths.TEAM_CSV, index=False, encoding=\"utf-8\")\n",
    "    return df\n",
    "\n",
    "# --- Ejecutar: primero intentamos el builder oficial; si da error, usamos el fallback ---\n",
    "try:\n",
    "    teams_df = dictionaries.build_team_dictionary(max_matches=50)\n",
    "    print(\"[OK] build_team_dictionary (módulo) ejecutado.\")\n",
    "except Exception as e:\n",
    "    print(\"[WARN] builder oficial falló → uso fallback notebook.\", e)\n",
    "    teams_df = build_team_dictionary_notebook(max_matches=50)\n",
    "\n",
    "print(f\"Equipos únicos: {teams_df.team_id.nunique()}  → {paths.TEAM_CSV}\")\n",
    "teams_df.head(10)"
   ]
  },
  {
   "cell_type": "code",
   "execution_count": 5,
   "id": "a48497bc",
   "metadata": {},
   "outputs": [
    {
     "name": "stdout",
     "output_type": "stream",
     "text": [
      "Jugadores únicos: 507  → C:\\Users\\manue\\OneDrive\\Escritorio\\Proyecto WhoScored\\data\\dictionaries\\players_master.csv\n"
     ]
    }
   ],
   "source": [
    "import numpy as np\n",
    "\n",
    "def build_players_dictionary_notebook() -> pd.DataFrame:\n",
    "    rows = []\n",
    "    for p in paths.BASE_DIR.rglob(\"csv/players.csv\"):\n",
    "        try:\n",
    "            df = pd.read_csv(p)\n",
    "        except Exception:\n",
    "            continue\n",
    "        if df is None or df.empty:\n",
    "            continue\n",
    "\n",
    "        cols = {c.strip().lower(): c for c in df.columns}\n",
    "        def col(*names):\n",
    "            for n in names:\n",
    "                if n in cols:\n",
    "                    return cols[n]\n",
    "\n",
    "        pid   = col(\"player_id\",\"playerid\",\"id\")\n",
    "        pname = col(\"player_name\",\"name\",\"player\")\n",
    "        tid   = col(\"team_id\",\"teamid\")\n",
    "        tname = col(\"team_name\",\"team\")\n",
    "        shirt = col(\"shirtnumber\",\"shirtno\",\"number\",\"no\")\n",
    "\n",
    "        if not (pid and pname):\n",
    "            continue\n",
    "\n",
    "        tmp = pd.DataFrame({\n",
    "            \"player_id\": pd.to_numeric(df[pid], errors=\"coerce\").astype(\"Int64\"),\n",
    "            \"player_name\": df[pname].astype(str),\n",
    "            \"team_id\": pd.to_numeric(df[tid], errors=\"coerce\").astype(\"Int64\") if tid else pd.Series([pd.NA]*len(df), dtype=\"Int64\"),\n",
    "            \"team_name\": df[tname].astype(str) if tname else \"\",\n",
    "            \"shirtNo\": pd.to_numeric(df[shirt], errors=\"coerce\").astype(\"Int64\") if shirt else pd.Series([pd.NA]*len(df), dtype=\"Int64\"),\n",
    "        })\n",
    "        rows.append(tmp)\n",
    "\n",
    "    if not rows:\n",
    "        out = pd.DataFrame(columns=[\"player_id\",\"player_name\",\"team_id\",\"team_name\",\"shirtNo\"])\n",
    "    else:\n",
    "        out = pd.concat(rows, ignore_index=True)\n",
    "        out = out.dropna(subset=[\"player_id\"])\n",
    "        out[\"player_id\"] = out[\"player_id\"].astype(int)\n",
    "        out[\"name_len\"] = out[\"player_name\"].str.len()\n",
    "        out = (out.sort_values([\"player_id\",\"name_len\"], ascending=[True, False])\n",
    "                 .drop_duplicates(\"player_id\", keep=\"first\")\n",
    "                 .drop(columns=[\"name_len\"])\n",
    "                 .reset_index(drop=True))\n",
    "\n",
    "    out.to_csv(paths.PLAYERS_CSV, index=False, encoding=\"utf-8\")\n",
    "    return out\n",
    "\n",
    "try:\n",
    "    players_df = build_players_dictionary_notebook()\n",
    "    print(f\"Jugadores únicos: {players_df.shape[0]}  → {paths.PLAYERS_CSV}\")\n",
    "    players_df.head(10)\n",
    "except Exception as e:\n",
    "    print(\"[WARN] No se pudo construir players_master.csv:\", e)"
   ]
  },
  {
   "cell_type": "code",
   "execution_count": 6,
   "id": "ddea0d31",
   "metadata": {},
   "outputs": [
    {
     "data": {
      "application/vnd.microsoft.datawrangler.viewer.v0+json": {
       "columns": [
        {
         "name": "index",
         "rawType": "int64",
         "type": "integer"
        },
        {
         "name": "team_id",
         "rawType": "int64",
         "type": "integer"
        },
        {
         "name": "name",
         "rawType": "object",
         "type": "string"
        },
        {
         "name": "primary",
         "rawType": "object",
         "type": "string"
        },
        {
         "name": "secondary",
         "rawType": "object",
         "type": "string"
        },
        {
         "name": "logo",
         "rawType": "object",
         "type": "string"
        }
       ],
       "ref": "a2512eea-b357-49f1-8ede-919317098235",
       "rows": [
        [
         "0",
         "51",
         "Mallorca",
         "#D00000",
         "#1A1A1A",
         "C:\\Users\\manue\\OneDrive\\Escritorio\\Proyecto WhoScored\\assets\\Escudos\\LaLiga\\mallorca.png"
        ],
        [
         "1",
         "52",
         "Real Madrid",
         "#FFFFFF",
         "#1D1D1B",
         "C:\\Users\\manue\\OneDrive\\Escritorio\\Proyecto WhoScored\\assets\\Escudos\\LaLiga\\realmadrid.png"
        ],
        [
         "2",
         "53",
         "Athletic Club",
         "#D00027",
         "#1A1A1A",
         "C:\\Users\\manue\\OneDrive\\Escritorio\\Proyecto WhoScored\\assets\\Escudos\\LaLiga\\athletic.png"
        ],
        [
         "3",
         "54",
         "Real Betis",
         "#009E49",
         "#FFFFFF",
         "C:\\Users\\manue\\OneDrive\\Escritorio\\Proyecto WhoScored\\assets\\Escudos\\LaLiga\\betis.png"
        ],
        [
         "4",
         "55",
         "Valencia",
         "#FF7900",
         "#000000",
         "C:\\Users\\manue\\OneDrive\\Escritorio\\Proyecto WhoScored\\assets\\Escudos\\LaLiga\\valencia.png"
        ],
        [
         "5",
         "60",
         "Deportivo Alaves",
         "#003DA5",
         "#FFFFFF",
         "C:\\Users\\manue\\OneDrive\\Escritorio\\Proyecto WhoScored\\assets\\Escudos\\LaLiga\\alaves.png"
        ],
        [
         "6",
         "61",
         "Real Oviedo",
         "#0057B8",
         "#FFD100",
         "C:\\Users\\manue\\OneDrive\\Escritorio\\Proyecto WhoScored\\assets\\Escudos\\LaLiga\\realoviedo.png"
        ],
        [
         "7",
         "62",
         "Celta Vigo",
         "#8EC6E8",
         "#E30613",
         "C:\\Users\\manue\\OneDrive\\Escritorio\\Proyecto WhoScored\\assets\\Escudos\\LaLiga\\celta.png"
        ]
       ],
       "shape": {
        "columns": 5,
        "rows": 8
       }
      },
      "text/html": [
       "<div>\n",
       "<style scoped>\n",
       "    .dataframe tbody tr th:only-of-type {\n",
       "        vertical-align: middle;\n",
       "    }\n",
       "\n",
       "    .dataframe tbody tr th {\n",
       "        vertical-align: top;\n",
       "    }\n",
       "\n",
       "    .dataframe thead th {\n",
       "        text-align: right;\n",
       "    }\n",
       "</style>\n",
       "<table border=\"1\" class=\"dataframe\">\n",
       "  <thead>\n",
       "    <tr style=\"text-align: right;\">\n",
       "      <th></th>\n",
       "      <th>team_id</th>\n",
       "      <th>name</th>\n",
       "      <th>primary</th>\n",
       "      <th>secondary</th>\n",
       "      <th>logo</th>\n",
       "    </tr>\n",
       "  </thead>\n",
       "  <tbody>\n",
       "    <tr>\n",
       "      <th>0</th>\n",
       "      <td>51</td>\n",
       "      <td>Mallorca</td>\n",
       "      <td>#D00000</td>\n",
       "      <td>#1A1A1A</td>\n",
       "      <td>C:\\Users\\manue\\OneDrive\\Escritorio\\Proyecto Wh...</td>\n",
       "    </tr>\n",
       "    <tr>\n",
       "      <th>1</th>\n",
       "      <td>52</td>\n",
       "      <td>Real Madrid</td>\n",
       "      <td>#FFFFFF</td>\n",
       "      <td>#1D1D1B</td>\n",
       "      <td>C:\\Users\\manue\\OneDrive\\Escritorio\\Proyecto Wh...</td>\n",
       "    </tr>\n",
       "    <tr>\n",
       "      <th>2</th>\n",
       "      <td>53</td>\n",
       "      <td>Athletic Club</td>\n",
       "      <td>#D00027</td>\n",
       "      <td>#1A1A1A</td>\n",
       "      <td>C:\\Users\\manue\\OneDrive\\Escritorio\\Proyecto Wh...</td>\n",
       "    </tr>\n",
       "    <tr>\n",
       "      <th>3</th>\n",
       "      <td>54</td>\n",
       "      <td>Real Betis</td>\n",
       "      <td>#009E49</td>\n",
       "      <td>#FFFFFF</td>\n",
       "      <td>C:\\Users\\manue\\OneDrive\\Escritorio\\Proyecto Wh...</td>\n",
       "    </tr>\n",
       "    <tr>\n",
       "      <th>4</th>\n",
       "      <td>55</td>\n",
       "      <td>Valencia</td>\n",
       "      <td>#FF7900</td>\n",
       "      <td>#000000</td>\n",
       "      <td>C:\\Users\\manue\\OneDrive\\Escritorio\\Proyecto Wh...</td>\n",
       "    </tr>\n",
       "    <tr>\n",
       "      <th>5</th>\n",
       "      <td>60</td>\n",
       "      <td>Deportivo Alaves</td>\n",
       "      <td>#003DA5</td>\n",
       "      <td>#FFFFFF</td>\n",
       "      <td>C:\\Users\\manue\\OneDrive\\Escritorio\\Proyecto Wh...</td>\n",
       "    </tr>\n",
       "    <tr>\n",
       "      <th>6</th>\n",
       "      <td>61</td>\n",
       "      <td>Real Oviedo</td>\n",
       "      <td>#0057B8</td>\n",
       "      <td>#FFD100</td>\n",
       "      <td>C:\\Users\\manue\\OneDrive\\Escritorio\\Proyecto Wh...</td>\n",
       "    </tr>\n",
       "    <tr>\n",
       "      <th>7</th>\n",
       "      <td>62</td>\n",
       "      <td>Celta Vigo</td>\n",
       "      <td>#8EC6E8</td>\n",
       "      <td>#E30613</td>\n",
       "      <td>C:\\Users\\manue\\OneDrive\\Escritorio\\Proyecto Wh...</td>\n",
       "    </tr>\n",
       "  </tbody>\n",
       "</table>\n",
       "</div>"
      ],
      "text/plain": [
       "   team_id              name  primary secondary  \\\n",
       "0       51          Mallorca  #D00000   #1A1A1A   \n",
       "1       52       Real Madrid  #FFFFFF   #1D1D1B   \n",
       "2       53     Athletic Club  #D00027   #1A1A1A   \n",
       "3       54        Real Betis  #009E49   #FFFFFF   \n",
       "4       55          Valencia  #FF7900   #000000   \n",
       "5       60  Deportivo Alaves  #003DA5   #FFFFFF   \n",
       "6       61       Real Oviedo  #0057B8   #FFD100   \n",
       "7       62        Celta Vigo  #8EC6E8   #E30613   \n",
       "\n",
       "                                                logo  \n",
       "0  C:\\Users\\manue\\OneDrive\\Escritorio\\Proyecto Wh...  \n",
       "1  C:\\Users\\manue\\OneDrive\\Escritorio\\Proyecto Wh...  \n",
       "2  C:\\Users\\manue\\OneDrive\\Escritorio\\Proyecto Wh...  \n",
       "3  C:\\Users\\manue\\OneDrive\\Escritorio\\Proyecto Wh...  \n",
       "4  C:\\Users\\manue\\OneDrive\\Escritorio\\Proyecto Wh...  \n",
       "5  C:\\Users\\manue\\OneDrive\\Escritorio\\Proyecto Wh...  \n",
       "6  C:\\Users\\manue\\OneDrive\\Escritorio\\Proyecto Wh...  \n",
       "7  C:\\Users\\manue\\OneDrive\\Escritorio\\Proyecto Wh...  "
      ]
     },
     "execution_count": 6,
     "metadata": {},
     "output_type": "execute_result"
    }
   ],
   "source": [
    "from whoscored_viz import identity\n",
    "\n",
    "# Toma algunos equipos y comprueba que identity devuelve {primary, secondary, logo, ...}\n",
    "check = []\n",
    "for tid, tnm in teams_df[[\"team_id\",\"team_name\"]].head(8).itertuples(index=False):\n",
    "    s = identity.team_style(int(tid), fallback_name=str(tnm))\n",
    "    check.append({\"team_id\": tid, \"name\": tnm, \"primary\": s.get(\"primary\"), \"secondary\": s.get(\"secondary\"), \"logo\": s.get(\"logo\")})\n",
    "\n",
    "pd.DataFrame(check)"
   ]
  },
  {
   "cell_type": "code",
   "execution_count": 7,
   "id": "a077a82f",
   "metadata": {},
   "outputs": [
    {
     "name": "stdout",
     "output_type": "stream",
     "text": [
      "Escudos encontrados: 20 / 20\n"
     ]
    },
    {
     "data": {
      "application/vnd.microsoft.datawrangler.viewer.v0+json": {
       "columns": [
        {
         "name": "index",
         "rawType": "int64",
         "type": "integer"
        },
        {
         "name": "team_id",
         "rawType": "int64",
         "type": "integer"
        },
        {
         "name": "team_name",
         "rawType": "object",
         "type": "string"
        },
        {
         "name": "slug",
         "rawType": "object",
         "type": "string"
        },
        {
         "name": "logo_path",
         "rawType": "object",
         "type": "string"
        },
        {
         "name": "primary",
         "rawType": "object",
         "type": "string"
        },
        {
         "name": "secondary",
         "rawType": "object",
         "type": "string"
        }
       ],
       "ref": "90e27a2e-5867-4848-be27-719f842c8e0d",
       "rows": [
        [
         "0",
         "51",
         "Mallorca",
         "mallorca",
         "C:\\Users\\manue\\OneDrive\\Escritorio\\Proyecto WhoScored\\assets\\Escudos\\LaLiga\\mallorca.png",
         "#D00000",
         "#1A1A1A"
        ],
        [
         "1",
         "52",
         "Real Madrid",
         "realmadrid",
         "C:\\Users\\manue\\OneDrive\\Escritorio\\Proyecto WhoScored\\assets\\Escudos\\LaLiga\\realmadrid.png",
         "#FFFFFF",
         "#1D1D1B"
        ],
        [
         "2",
         "53",
         "Athletic Club",
         "athletic",
         "C:\\Users\\manue\\OneDrive\\Escritorio\\Proyecto WhoScored\\assets\\Escudos\\LaLiga\\athletic.png",
         "#D00027",
         "#1A1A1A"
        ],
        [
         "3",
         "54",
         "Real Betis",
         "betis",
         "C:\\Users\\manue\\OneDrive\\Escritorio\\Proyecto WhoScored\\assets\\Escudos\\LaLiga\\betis.png",
         "#009E49",
         "#FFFFFF"
        ],
        [
         "4",
         "55",
         "Valencia",
         "valencia",
         "C:\\Users\\manue\\OneDrive\\Escritorio\\Proyecto WhoScored\\assets\\Escudos\\LaLiga\\valencia.png",
         "#FF7900",
         "#000000"
        ],
        [
         "5",
         "60",
         "Deportivo Alaves",
         "alaves",
         "C:\\Users\\manue\\OneDrive\\Escritorio\\Proyecto WhoScored\\assets\\Escudos\\LaLiga\\alaves.png",
         "#003DA5",
         "#FFFFFF"
        ],
        [
         "6",
         "61",
         "Real Oviedo",
         "realoviedo",
         "C:\\Users\\manue\\OneDrive\\Escritorio\\Proyecto WhoScored\\assets\\Escudos\\LaLiga\\realoviedo.png",
         "#0057B8",
         "#FFD100"
        ],
        [
         "7",
         "62",
         "Celta Vigo",
         "celta",
         "C:\\Users\\manue\\OneDrive\\Escritorio\\Proyecto WhoScored\\assets\\Escudos\\LaLiga\\celta.png",
         "#8EC6E8",
         "#E30613"
        ],
        [
         "8",
         "63",
         "Atletico",
         "atlmadrid",
         "C:\\Users\\manue\\OneDrive\\Escritorio\\Proyecto WhoScored\\assets\\Escudos\\LaLiga\\atlmadrid.png",
         "#D20A11",
         "#1B3D8E"
        ],
        [
         "9",
         "64",
         "Rayo Vallecano",
         "rayovallecano",
         "C:\\Users\\manue\\OneDrive\\Escritorio\\Proyecto WhoScored\\assets\\Escudos\\LaLiga\\rayovallecano.png",
         "#E30613",
         "#FFFFFF"
        ]
       ],
       "shape": {
        "columns": 6,
        "rows": 10
       }
      },
      "text/html": [
       "<div>\n",
       "<style scoped>\n",
       "    .dataframe tbody tr th:only-of-type {\n",
       "        vertical-align: middle;\n",
       "    }\n",
       "\n",
       "    .dataframe tbody tr th {\n",
       "        vertical-align: top;\n",
       "    }\n",
       "\n",
       "    .dataframe thead th {\n",
       "        text-align: right;\n",
       "    }\n",
       "</style>\n",
       "<table border=\"1\" class=\"dataframe\">\n",
       "  <thead>\n",
       "    <tr style=\"text-align: right;\">\n",
       "      <th></th>\n",
       "      <th>team_id</th>\n",
       "      <th>team_name</th>\n",
       "      <th>slug</th>\n",
       "      <th>logo_path</th>\n",
       "      <th>primary</th>\n",
       "      <th>secondary</th>\n",
       "    </tr>\n",
       "  </thead>\n",
       "  <tbody>\n",
       "    <tr>\n",
       "      <th>0</th>\n",
       "      <td>51</td>\n",
       "      <td>Mallorca</td>\n",
       "      <td>mallorca</td>\n",
       "      <td>C:\\Users\\manue\\OneDrive\\Escritorio\\Proyecto Wh...</td>\n",
       "      <td>#D00000</td>\n",
       "      <td>#1A1A1A</td>\n",
       "    </tr>\n",
       "    <tr>\n",
       "      <th>1</th>\n",
       "      <td>52</td>\n",
       "      <td>Real Madrid</td>\n",
       "      <td>realmadrid</td>\n",
       "      <td>C:\\Users\\manue\\OneDrive\\Escritorio\\Proyecto Wh...</td>\n",
       "      <td>#FFFFFF</td>\n",
       "      <td>#1D1D1B</td>\n",
       "    </tr>\n",
       "    <tr>\n",
       "      <th>2</th>\n",
       "      <td>53</td>\n",
       "      <td>Athletic Club</td>\n",
       "      <td>athletic</td>\n",
       "      <td>C:\\Users\\manue\\OneDrive\\Escritorio\\Proyecto Wh...</td>\n",
       "      <td>#D00027</td>\n",
       "      <td>#1A1A1A</td>\n",
       "    </tr>\n",
       "    <tr>\n",
       "      <th>3</th>\n",
       "      <td>54</td>\n",
       "      <td>Real Betis</td>\n",
       "      <td>betis</td>\n",
       "      <td>C:\\Users\\manue\\OneDrive\\Escritorio\\Proyecto Wh...</td>\n",
       "      <td>#009E49</td>\n",
       "      <td>#FFFFFF</td>\n",
       "    </tr>\n",
       "    <tr>\n",
       "      <th>4</th>\n",
       "      <td>55</td>\n",
       "      <td>Valencia</td>\n",
       "      <td>valencia</td>\n",
       "      <td>C:\\Users\\manue\\OneDrive\\Escritorio\\Proyecto Wh...</td>\n",
       "      <td>#FF7900</td>\n",
       "      <td>#000000</td>\n",
       "    </tr>\n",
       "    <tr>\n",
       "      <th>5</th>\n",
       "      <td>60</td>\n",
       "      <td>Deportivo Alaves</td>\n",
       "      <td>alaves</td>\n",
       "      <td>C:\\Users\\manue\\OneDrive\\Escritorio\\Proyecto Wh...</td>\n",
       "      <td>#003DA5</td>\n",
       "      <td>#FFFFFF</td>\n",
       "    </tr>\n",
       "    <tr>\n",
       "      <th>6</th>\n",
       "      <td>61</td>\n",
       "      <td>Real Oviedo</td>\n",
       "      <td>realoviedo</td>\n",
       "      <td>C:\\Users\\manue\\OneDrive\\Escritorio\\Proyecto Wh...</td>\n",
       "      <td>#0057B8</td>\n",
       "      <td>#FFD100</td>\n",
       "    </tr>\n",
       "    <tr>\n",
       "      <th>7</th>\n",
       "      <td>62</td>\n",
       "      <td>Celta Vigo</td>\n",
       "      <td>celta</td>\n",
       "      <td>C:\\Users\\manue\\OneDrive\\Escritorio\\Proyecto Wh...</td>\n",
       "      <td>#8EC6E8</td>\n",
       "      <td>#E30613</td>\n",
       "    </tr>\n",
       "    <tr>\n",
       "      <th>8</th>\n",
       "      <td>63</td>\n",
       "      <td>Atletico</td>\n",
       "      <td>atlmadrid</td>\n",
       "      <td>C:\\Users\\manue\\OneDrive\\Escritorio\\Proyecto Wh...</td>\n",
       "      <td>#D20A11</td>\n",
       "      <td>#1B3D8E</td>\n",
       "    </tr>\n",
       "    <tr>\n",
       "      <th>9</th>\n",
       "      <td>64</td>\n",
       "      <td>Rayo Vallecano</td>\n",
       "      <td>rayovallecano</td>\n",
       "      <td>C:\\Users\\manue\\OneDrive\\Escritorio\\Proyecto Wh...</td>\n",
       "      <td>#E30613</td>\n",
       "      <td>#FFFFFF</td>\n",
       "    </tr>\n",
       "  </tbody>\n",
       "</table>\n",
       "</div>"
      ],
      "text/plain": [
       "   team_id         team_name           slug  \\\n",
       "0       51          Mallorca       mallorca   \n",
       "1       52       Real Madrid     realmadrid   \n",
       "2       53     Athletic Club       athletic   \n",
       "3       54        Real Betis          betis   \n",
       "4       55          Valencia       valencia   \n",
       "5       60  Deportivo Alaves         alaves   \n",
       "6       61       Real Oviedo     realoviedo   \n",
       "7       62        Celta Vigo          celta   \n",
       "8       63          Atletico      atlmadrid   \n",
       "9       64    Rayo Vallecano  rayovallecano   \n",
       "\n",
       "                                           logo_path  primary secondary  \n",
       "0  C:\\Users\\manue\\OneDrive\\Escritorio\\Proyecto Wh...  #D00000   #1A1A1A  \n",
       "1  C:\\Users\\manue\\OneDrive\\Escritorio\\Proyecto Wh...  #FFFFFF   #1D1D1B  \n",
       "2  C:\\Users\\manue\\OneDrive\\Escritorio\\Proyecto Wh...  #D00027   #1A1A1A  \n",
       "3  C:\\Users\\manue\\OneDrive\\Escritorio\\Proyecto Wh...  #009E49   #FFFFFF  \n",
       "4  C:\\Users\\manue\\OneDrive\\Escritorio\\Proyecto Wh...  #FF7900   #000000  \n",
       "5  C:\\Users\\manue\\OneDrive\\Escritorio\\Proyecto Wh...  #003DA5   #FFFFFF  \n",
       "6  C:\\Users\\manue\\OneDrive\\Escritorio\\Proyecto Wh...  #0057B8   #FFD100  \n",
       "7  C:\\Users\\manue\\OneDrive\\Escritorio\\Proyecto Wh...  #8EC6E8   #E30613  \n",
       "8  C:\\Users\\manue\\OneDrive\\Escritorio\\Proyecto Wh...  #D20A11   #1B3D8E  \n",
       "9  C:\\Users\\manue\\OneDrive\\Escritorio\\Proyecto Wh...  #E30613   #FFFFFF  "
      ]
     },
     "execution_count": 7,
     "metadata": {},
     "output_type": "execute_result"
    }
   ],
   "source": [
    "t = pd.read_csv(paths.TEAM_CSV)\n",
    "missing = (t[\"logo_path\"].fillna(\"\")==\"\").sum()\n",
    "print(f\"Escudos encontrados: {len(t)-missing} / {len(t)}\")\n",
    "if missing:\n",
    "    print(\"Revisa SLUG_ALIASES en dictionaries.py o los nombres de archivo en\", paths.ESCUDOS_DIR)\n",
    "t.head(10)"
   ]
  },
  {
   "cell_type": "code",
   "execution_count": 8,
   "id": "1caf34f5",
   "metadata": {},
   "outputs": [
    {
     "data": {
      "image/png": "[encoded data removed]",
      "text/plain": [
       "<Figure size 1000x700 with 1 Axes>"
      ]
     },
     "metadata": {},
     "output_type": "display_data"
    }
   ],
   "source": [
    "import matplotlib.pyplot as plt\n",
    "from mplsoccer import Pitch\n",
    "\n",
    "BG_COLOR   = \"#24282a\"\n",
    "LINE_COLOR = \"white\"\n",
    "\n",
    "def make_pitch(figsize=(10,7)):\n",
    "    fig, ax = plt.subplots(figsize=figsize)\n",
    "    fig.patch.set_facecolor(BG_COLOR)\n",
    "    ax.patch.set_facecolor(BG_COLOR)\n",
    "    pitch = Pitch(pitch_type=\"uefa\", corner_arcs=True,\n",
    "                  pitch_color=BG_COLOR, line_color=LINE_COLOR,\n",
    "                  linewidth=2, stripe=False)\n",
    "    pitch.draw(ax=ax)\n",
    "    return fig, ax, pitch\n",
    "\n",
    "_, ax, _ = make_pitch()\n",
    "ax.set_title(\"Campo con tema del proyecto\", color=\"white\")\n",
    "plt.show()"
   ]
  }
 ],
 "metadata": {
  "kernelspec": {
   "display_name": ".venv",
   "language": "python",
   "name": "python3"
  },
  "language_info": {
   "codemirror_mode": {
    "name": "ipython",
    "version": 3
   },
   "file_extension": ".py",
   "mimetype": "text/x-python",
   "name": "python",
   "nbconvert_exporter": "python",
   "pygments_lexer": "ipython3",
   "version": "3.10.11"
  }
 },
 "nbformat": 4,
 "nbformat_minor": 5
}
