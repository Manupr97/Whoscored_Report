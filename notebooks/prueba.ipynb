{
 "cells": [
  {
   "cell_type": "code",
   "execution_count": null,
   "id": "07282738",
   "metadata": {},
   "outputs": [
    {
     "name": "stdout",
     "output_type": "stream",
     "text": [
      "✅ OK [1/31] match_id=1913916 → C:\\Users\\manue\\OneDrive\\Escritorio\\Proyecto WhoScored\\data\\MatchCenter\\Competition\\Season\\20250815_Girona_vs_Rayo_Vallecano_1913916\n",
      "✅ OK [2/31] match_id=1913892 → C:\\Users\\manue\\OneDrive\\Escritorio\\Proyecto WhoScored\\data\\MatchCenter\\Competition\\Season\\20250815_Villarreal_vs_Real_Oviedo_1913892\n",
      "✅ OK [3/31] match_id=1913918 → C:\\Users\\manue\\OneDrive\\Escritorio\\Proyecto WhoScored\\data\\MatchCenter\\Competition\\Season\\20250816_Mallorca_vs_Barcelona_1913918\n",
      "✅ OK [4/31] match_id=1913913 → C:\\Users\\manue\\OneDrive\\Escritorio\\Proyecto WhoScored\\data\\MatchCenter\\Competition\\Season\\20250816_Deportivo_Alaves_vs_Levante_1913913\n",
      "✅ OK [5/31] match_id=1913889 → C:\\Users\\manue\\OneDrive\\Escritorio\\Proyecto WhoScored\\data\\MatchCenter\\Competition\\Season\\20250816_Valencia_vs_Real_Sociedad_1913889\n",
      "✅ OK [6/31] match_id=1913915 → C:\\Users\\manue\\OneDrive\\Escritorio\\Proyecto WhoScored\\data\\MatchCenter\\Competition\\Season\\20250817_Celta_Vigo_vs_Getafe_1913915\n",
      "✅ OK [7/31] match_id=1913914 → C:\\Users\\manue\\OneDrive\\Escritorio\\Proyecto WhoScored\\data\\MatchCenter\\Competition\\Season\\20250817_Athletic_Club_vs_Sevilla_1913914\n",
      "✅ OK [8/31] match_id=1913917 → C:\\Users\\manue\\OneDrive\\Escritorio\\Proyecto WhoScored\\data\\MatchCenter\\Competition\\Season\\20250817_Espanyol_vs_Atletico_1913917\n",
      "… cooldown 20s\n",
      "✅ OK [9/31] match_id=1913883 → C:\\Users\\manue\\OneDrive\\Escritorio\\Proyecto WhoScored\\data\\MatchCenter\\Competition\\Season\\20250818_Elche_vs_Real_Betis_1913883\n",
      "✅ OK [10/31] match_id=1913886 → C:\\Users\\manue\\OneDrive\\Escritorio\\Proyecto WhoScored\\data\\MatchCenter\\Competition\\Season\\20250819_Real_Madrid_vs_Osasuna_1913886\n",
      "✅ OK [11/31] match_id=1913885 → C:\\Users\\manue\\OneDrive\\Escritorio\\Proyecto WhoScored\\data\\MatchCenter\\Competition\\Season\\20250822_Real_Betis_vs_Deportivo_Alaves_1913885\n",
      "✅ OK [12/31] match_id=1913891 → C:\\Users\\manue\\OneDrive\\Escritorio\\Proyecto WhoScored\\data\\MatchCenter\\Competition\\Season\\20250823_Mallorca_vs_Celta_Vigo_1913891\n",
      "✅ OK [13/31] match_id=1913898 → C:\\Users\\manue\\OneDrive\\Escritorio\\Proyecto WhoScored\\data\\MatchCenter\\Competition\\Season\\20250823_Atletico_vs_Elche_1913898\n",
      "✅ OK [14/31] match_id=1913888 → C:\\Users\\manue\\OneDrive\\Escritorio\\Proyecto WhoScored\\data\\MatchCenter\\Competition\\Season\\20250823_Levante_vs_Barcelona_1913888\n",
      "✅ OK [15/31] match_id=1913900 → C:\\Users\\manue\\OneDrive\\Escritorio\\Proyecto WhoScored\\data\\MatchCenter\\Competition\\Season\\20250824_Osasuna_vs_Valencia_1913900\n",
      "✅ OK [16/31] match_id=1913901 → C:\\Users\\manue\\OneDrive\\Escritorio\\Proyecto WhoScored\\data\\MatchCenter\\Competition\\Season\\20250824_Villarreal_vs_Girona_1913901\n",
      "… cooldown 20s\n",
      "✅ OK [17/31] match_id=1913894 → C:\\Users\\manue\\OneDrive\\Escritorio\\Proyecto WhoScored\\data\\MatchCenter\\Competition\\Season\\20250824_Real_Sociedad_vs_Espanyol_1913894\n",
      "✅ OK [18/31] match_id=1913882 → C:\\Users\\manue\\OneDrive\\Escritorio\\Proyecto WhoScored\\data\\MatchCenter\\Competition\\Season\\20250824_Real_Oviedo_vs_Real_Madrid_1913882\n",
      "✅ OK [19/31] match_id=1913895 → C:\\Users\\manue\\OneDrive\\Escritorio\\Proyecto WhoScored\\data\\MatchCenter\\Competition\\Season\\20250825_Athletic_Club_vs_Rayo_Vallecano_1913895\n",
      "✅ OK [20/31] match_id=1913897 → C:\\Users\\manue\\OneDrive\\Escritorio\\Proyecto WhoScored\\data\\MatchCenter\\Competition\\Season\\20250825_Sevilla_vs_Getafe_1913897\n",
      "✅ OK [21/31] match_id=1913937 → C:\\Users\\manue\\OneDrive\\Escritorio\\Proyecto WhoScored\\data\\MatchCenter\\Competition\\Season\\20250827_Celta_Vigo_vs_Real_Betis_1913937\n",
      "✅ OK [22/31] match_id=1913890 → C:\\Users\\manue\\OneDrive\\Escritorio\\Proyecto WhoScored\\data\\MatchCenter\\Competition\\Season\\20250829_Elche_vs_Levante_1913890\n",
      "✅ OK [23/31] match_id=1913919 → C:\\Users\\manue\\OneDrive\\Escritorio\\Proyecto WhoScored\\data\\MatchCenter\\Competition\\Season\\20250829_Valencia_vs_Getafe_1913919\n",
      "✅ OK [24/31] match_id=1913884 → C:\\Users\\manue\\OneDrive\\Escritorio\\Proyecto WhoScored\\data\\MatchCenter\\Competition\\Season\\20250830_Deportivo_Alaves_vs_Atletico_1913884\n",
      "… cooldown 20s\n",
      "✅ OK [25/31] match_id=1913899 → C:\\Users\\manue\\OneDrive\\Escritorio\\Proyecto WhoScored\\data\\MatchCenter\\Competition\\Season\\20250830_Real_Oviedo_vs_Real_Sociedad_1913899\n",
      "✅ OK [26/31] match_id=1913896 → C:\\Users\\manue\\OneDrive\\Escritorio\\Proyecto WhoScored\\data\\MatchCenter\\Competition\\Season\\20250830_Girona_vs_Sevilla_1913896\n",
      "✅ OK [27/31] match_id=1913920 → C:\\Users\\manue\\OneDrive\\Escritorio\\Proyecto WhoScored\\data\\MatchCenter\\Competition\\Season\\20250830_Real_Madrid_vs_Mallorca_1913920\n",
      "✅ OK [28/31] match_id=1913887 → C:\\Users\\manue\\OneDrive\\Escritorio\\Proyecto WhoScored\\data\\MatchCenter\\Competition\\Season\\20250831_Celta_Vigo_vs_Villarreal_1913887\n",
      "✅ OK [29/31] match_id=1913902 → C:\\Users\\manue\\OneDrive\\Escritorio\\Proyecto WhoScored\\data\\MatchCenter\\Competition\\Season\\20250831_Real_Betis_vs_Athletic_Club_1913902\n",
      "✅ OK [30/31] match_id=1913893 → C:\\Users\\manue\\OneDrive\\Escritorio\\Proyecto WhoScored\\data\\MatchCenter\\Competition\\Season\\20250831_Espanyol_vs_Osasuna_1913893\n",
      "✅ OK [31/31] match_id=1913904 → C:\\Users\\manue\\OneDrive\\Escritorio\\Proyecto WhoScored\\data\\MatchCenter\\Competition\\Season\\20250831_Rayo_Vallecano_vs_Barcelona_1913904\n"
     ]
    }
   ],
   "source": [
    "from pathlib import Path\n",
    "from src.whoscored_viz.whoscored_fixtures import make_driver, scrape_month_finished\n",
    "from src.whoscored_viz.whoscored_matchcenter import process_from_csv\n",
    "\n",
    "driver = make_driver(headless=False)\n",
    "\n",
    "try:\n",
    "    df = scrape_month_finished(\n",
    "        driver=driver,\n",
    "        month_label=\"ago 2025\",\n",
    "        out_dir=Path(\"data\"),\n",
    "        fixtures_url=(\"https://es.whoscored.com/regions/206/tournaments/4/seasons/10803/\"\n",
    "                      \"stages/24622/fixtures/espa%C3%B1a-laliga-2025-2026\"),\n",
    "    )\n",
    "\n",
    "    csv_fixtures = Path(\"data/DataFixtures/laliga/2025-2026/2025-08/finished_matches.csv\")\n",
    "    process_from_csv(\n",
    "        csv_fixtures,              # ← posicional\n",
    "        out_root=Path(\"data\"),\n",
    "        driver=driver,             # ← reusar sesión\n",
    "        pause_range=(1.2, 2.8),\n",
    "        cooldown_every=8,\n",
    "        cooldown_secs=20,\n",
    "    )\n",
    "finally:\n",
    "    driver.quit()\n"
   ]
  }
 ],
 "metadata": {
  "kernelspec": {
   "display_name": ".venv",
   "language": "python",
   "name": "python3"
  },
  "language_info": {
   "codemirror_mode": {
    "name": "ipython",
    "version": 3
   },
   "file_extension": ".py",
   "mimetype": "text/x-python",
   "name": "python",
   "nbconvert_exporter": "python",
   "pygments_lexer": "ipython3",
   "version": "3.10.11"
  }
 },
 "nbformat": 4,
 "nbformat_minor": 5
}
